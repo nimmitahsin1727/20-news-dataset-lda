{
  "cells": [
    {
      "cell_type": "markdown",
      "metadata": {
        "id": "AuQXzf7-wRr5"
      },
      "source": [
        "# Mount Google Drive"
      ]
    },
    {
      "cell_type": "code",
      "execution_count": null,
      "metadata": {
        "colab": {
          "base_uri": "https://localhost:8080/"
        },
        "id": "uJPT0Q6hwQUH",
        "outputId": "b92c122f-ee00-4a4b-fb73-e4aa4dede958"
      },
      "outputs": [],
      "source": [
        "from google.colab import drive\n",
        "drive.mount(\"/content/gdrive\", force_remount=True)"
      ]
    },
    {
      "cell_type": "markdown",
      "metadata": {
        "id": "UcOPoLTScu4V"
      },
      "source": [
        "# Importing libraries"
      ]
    },
    {
      "cell_type": "code",
      "execution_count": 5,
      "metadata": {
        "colab": {
          "base_uri": "https://localhost:8080/"
        },
        "id": "FUvPDKDdu_Sc",
        "outputId": "afee5f11-8668-483e-9a48-d2298d1c0c89"
      },
      "outputs": [
        {
          "name": "stderr",
          "output_type": "stream",
          "text": [
            "[nltk_data] Downloading package punkt to\n",
            "[nltk_data]     /Users/arifulalam/nltk_data...\n",
            "[nltk_data]   Package punkt is already up-to-date!\n",
            "[nltk_data] Downloading package wordnet to\n",
            "[nltk_data]     /Users/arifulalam/nltk_data...\n",
            "[nltk_data]   Package wordnet is already up-to-date!\n",
            "[nltk_data] Downloading package omw-1.4 to\n",
            "[nltk_data]     /Users/arifulalam/nltk_data...\n",
            "[nltk_data]   Package omw-1.4 is already up-to-date!\n",
            "[nltk_data] Downloading package averaged_perceptron_tagger to\n",
            "[nltk_data]     /Users/arifulalam/nltk_data...\n",
            "[nltk_data]   Package averaged_perceptron_tagger is already up-to-\n",
            "[nltk_data]       date!\n"
          ]
        },
        {
          "data": {
            "text/plain": [
              "True"
            ]
          },
          "execution_count": 5,
          "metadata": {},
          "output_type": "execute_result"
        }
      ],
      "source": [
        "import glob\n",
        "import os\n",
        "import numpy as np\n",
        "import pandas as pd\n",
        "from collections import defaultdict\n",
        "from string import punctuation\n",
        "import re\n",
        "import matplotlib.pyplot as plt\n",
        "%matplotlib inline\n",
        "\n",
        "import nltk\n",
        "nltk.download('punkt')\n",
        "from nltk.corpus import wordnet as wn\n",
        "nltk.download('wordnet')\n",
        "nltk.download('omw-1.4')\n",
        "from nltk.stem.wordnet import WordNetLemmatizer\n",
        "from nltk import word_tokenize, pos_tag\n",
        "nltk.download('averaged_perceptron_tagger') # need for pos_tag"
      ]
    },
    {
      "cell_type": "markdown",
      "metadata": {},
      "source": [
        "# Global Variables"
      ]
    },
    {
      "cell_type": "markdown",
      "metadata": {},
      "source": [
        "If you're in Google Colab, you should run this cell below:"
      ]
    },
    {
      "cell_type": "code",
      "execution_count": 4,
      "metadata": {},
      "outputs": [],
      "source": [
        "BASE_PATH = \"/content/gdrive/MyDrive/MSC research/document clustering/\""
      ]
    },
    {
      "cell_type": "markdown",
      "metadata": {},
      "source": [
        "If you're in local machine, you should run this cell below:"
      ]
    },
    {
      "cell_type": "code",
      "execution_count": 7,
      "metadata": {},
      "outputs": [],
      "source": [
        "BASE_PATH = \"./\""
      ]
    },
    {
      "cell_type": "markdown",
      "metadata": {},
      "source": [
        "# Loading Data"
      ]
    },
    {
      "cell_type": "code",
      "execution_count": 8,
      "metadata": {
        "id": "21Njh2W6rrlL"
      },
      "outputs": [],
      "source": [
        "def read_documents_20ng(data_path_train):\n",
        "    docs = []\n",
        "    labels = []\n",
        "\n",
        "    a = glob.glob(os.path.join(data_path_train, '*'))\n",
        "    for aa in a:\n",
        "        b = glob.glob(os.path.join(aa, '*'))\n",
        "        for bb in b:\n",
        "            with open(bb, encoding='latin1') as f:\n",
        "                docs.append(f.read())\n",
        "                labels.append(aa.replace(data_path_train, ''))\n",
        "\n",
        "    return docs, labels"
      ]
    },
    {
      "cell_type": "markdown",
      "metadata": {
        "id": "bkHucmm0dh3q"
      },
      "source": [
        "## Training Data"
      ]
    },
    {
      "cell_type": "markdown",
      "metadata": {
        "id": "2gWgBYNXgz1s"
      },
      "source": [
        "### Data loading"
      ]
    },
    {
      "cell_type": "code",
      "execution_count": 9,
      "metadata": {
        "id": "pU-V8REhuu9a"
      },
      "outputs": [],
      "source": [
        "data_path_train = f'{BASE_PATH}data/20news-bydate-train/'"
      ]
    },
    {
      "cell_type": "code",
      "execution_count": 10,
      "metadata": {
        "id": "lct6e7i-uRL1"
      },
      "outputs": [],
      "source": [
        "train_docs, train_labels = read_documents_20ng(data_path_train)"
      ]
    },
    {
      "cell_type": "code",
      "execution_count": 11,
      "metadata": {
        "colab": {
          "base_uri": "https://localhost:8080/"
        },
        "id": "ZzFd9xA-v0Eu",
        "outputId": "976bb019-1017-4b99-8659-7d668d39293a"
      },
      "outputs": [
        {
          "name": "stdout",
          "output_type": "stream",
          "text": [
            "Training data: 1728\n",
            "Number of categories: 3\n",
            "Categories: ['comp.graphics' 'rec.motorcycles' 'talk.politics.guns']\n"
          ]
        }
      ],
      "source": [
        "print('Training data:', len(train_docs))\n",
        "print('Number of categories:', len(np.unique(train_labels)))\n",
        "print('Categories:', np.unique(train_labels))"
      ]
    },
    {
      "cell_type": "markdown",
      "metadata": {
        "id": "h3nuxKbQgs-x"
      },
      "source": [
        "### Finding frequency of each category"
      ]
    },
    {
      "cell_type": "code",
      "execution_count": 12,
      "metadata": {
        "colab": {
          "base_uri": "https://localhost:8080/"
        },
        "id": "zfzkAmmRl0Qq",
        "outputId": "71677c0d-5e3b-480b-c474-1c505be72c12"
      },
      "outputs": [
        {
          "data": {
            "text/plain": [
              "1728"
            ]
          },
          "execution_count": 12,
          "metadata": {},
          "output_type": "execute_result"
        }
      ],
      "source": [
        "len(train_labels)"
      ]
    },
    {
      "cell_type": "code",
      "execution_count": 13,
      "metadata": {
        "colab": {
          "base_uri": "https://localhost:8080/"
        },
        "id": "I892lCBMfdgG",
        "outputId": "92f3533e-735d-4e33-e08e-2e6def455491"
      },
      "outputs": [
        {
          "name": "stdout",
          "output_type": "stream",
          "text": [
            "['comp.graphics' 'rec.motorcycles' 'talk.politics.guns']\n",
            "[584 598 546]\n",
            "[('comp.graphics', 584), ('rec.motorcycles', 598), ('talk.politics.guns', 546)]\n"
          ]
        }
      ],
      "source": [
        "train_targets, train_frequency = np.unique(train_labels, return_counts=True)\n",
        "print(train_targets)\n",
        "print(train_frequency)\n",
        "print(list(zip(train_targets, train_frequency)))"
      ]
    },
    {
      "cell_type": "markdown",
      "metadata": {
        "id": "DFgFb2AMgIQR"
      },
      "source": [
        "### Class distribution\n"
      ]
    },
    {
      "cell_type": "code",
      "execution_count": 14,
      "metadata": {
        "colab": {
          "base_uri": "https://localhost:8080/",
          "height": 468
        },
        "id": "RbobCRWfgJLk",
        "outputId": "4dd0a647-8192-4f64-c342-f0504a62ff1c"
      },
      "outputs": [
        {
          "data": {
            "image/png": "[encoded data removed]",
            "text/plain": [
              "<Figure size 800x400 with 1 Axes>"
            ]
          },
          "metadata": {},
          "output_type": "display_data"
        }
      ],
      "source": [
        "fig=plt.figure(figsize=(10, 5), dpi= 80, facecolor='w', edgecolor='k')\n",
        "plt.bar(train_targets, train_frequency)\n",
        "plt.xticks(rotation=90)\n",
        "plt.title(f'Class distribution of {len(train_targets)} Newsgroups Training Data')\n",
        "plt.xlabel('News Group')\n",
        "plt.ylabel('Frequency')\n",
        "plt.show()"
      ]
    },
    {
      "cell_type": "markdown",
      "metadata": {
        "id": "86CppP0tdsgc"
      },
      "source": [
        "## Testing Data"
      ]
    },
    {
      "cell_type": "markdown",
      "metadata": {
        "id": "HeChmhxxiZd7"
      },
      "source": [
        "### Data loading"
      ]
    },
    {
      "cell_type": "code",
      "execution_count": 15,
      "metadata": {
        "id": "NJB_IR7Pd2O-"
      },
      "outputs": [],
      "source": [
        "data_path_test = f'{BASE_PATH}data/20news-bydate-test/'"
      ]
    },
    {
      "cell_type": "code",
      "execution_count": 16,
      "metadata": {
        "id": "n6itF-kndrYJ"
      },
      "outputs": [],
      "source": [
        "test_docs, test_labels = read_documents_20ng(data_path_test)"
      ]
    },
    {
      "cell_type": "code",
      "execution_count": 17,
      "metadata": {
        "colab": {
          "base_uri": "https://localhost:8080/"
        },
        "id": "sN9d4NYiy48g",
        "outputId": "e72df9d9-9a4f-4350-a608-0cce895f2cd6"
      },
      "outputs": [
        {
          "name": "stdout",
          "output_type": "stream",
          "text": [
            "Testing data: 1151\n",
            "Number of categories: 3\n",
            "Categories: ['comp.graphics' 'rec.motorcycles' 'talk.politics.guns']\n"
          ]
        }
      ],
      "source": [
        "print('Testing data:', len(test_docs))\n",
        "print('Number of categories:', len(np.unique(test_labels)))\n",
        "print('Categories:', np.unique(test_labels))"
      ]
    },
    {
      "cell_type": "markdown",
      "metadata": {
        "id": "B7UpZYWsihaB"
      },
      "source": [
        "### Finding frequency of each category"
      ]
    },
    {
      "cell_type": "code",
      "execution_count": 18,
      "metadata": {
        "colab": {
          "base_uri": "https://localhost:8080/"
        },
        "id": "YQ8PxqNIihaC",
        "outputId": "61e3cc8f-05f2-4154-d9f8-877f63a1a846"
      },
      "outputs": [
        {
          "name": "stdout",
          "output_type": "stream",
          "text": [
            "['comp.graphics' 'rec.motorcycles' 'talk.politics.guns']\n",
            "[389 398 364]\n",
            "[('comp.graphics', 389), ('rec.motorcycles', 398), ('talk.politics.guns', 364)]\n"
          ]
        }
      ],
      "source": [
        "test_targets, test_frequency = np.unique(test_labels, return_counts=True)\n",
        "print(test_targets)\n",
        "print(test_frequency)\n",
        "print(list(zip(test_targets, test_frequency)))"
      ]
    },
    {
      "cell_type": "markdown",
      "metadata": {
        "id": "vd08cjslihaD"
      },
      "source": [
        "### Class distribution\n"
      ]
    },
    {
      "cell_type": "code",
      "execution_count": 19,
      "metadata": {
        "colab": {
          "base_uri": "https://localhost:8080/",
          "height": 468
        },
        "id": "791xkdYxihaD",
        "outputId": "5db3f94a-9461-4d00-9d4b-77764f18d02a"
      },
      "outputs": [
        {
          "data": {
            "image/png": "[encoded data removed]",
            "text/plain": [
              "<Figure size 800x400 with 1 Axes>"
            ]
          },
          "metadata": {},
          "output_type": "display_data"
        }
      ],
      "source": [
        "fig=plt.figure(figsize=(10, 5), dpi= 80, facecolor='w', edgecolor='k')\n",
        "plt.bar(test_targets, test_frequency)\n",
        "plt.xticks(rotation=90)\n",
        "plt.title(f'Class distribution of {len(test_targets)} Newsgroups Testing Data')\n",
        "plt.xlabel('News Group')\n",
        "plt.ylabel('Frequency')\n",
        "plt.show()"
      ]
    },
    {
      "cell_type": "markdown",
      "metadata": {
        "id": "c0cAeBowGUVP"
      },
      "source": [
        "# Pre-process data"
      ]
    },
    {
      "cell_type": "markdown",
      "metadata": {
        "id": "HPPLNptNjXey"
      },
      "source": [
        "## Creating STOP WORDS"
      ]
    },
    {
      "cell_type": "markdown",
      "metadata": {
        "id": "iXwFkr55jjAp"
      },
      "source": [
        "Intial stop words from `sklearn.feature_extraction._stop_words`"
      ]
    },
    {
      "cell_type": "code",
      "execution_count": 20,
      "metadata": {
        "id": "IsERnc6XaSG8"
      },
      "outputs": [],
      "source": [
        "from sklearn.feature_extraction._stop_words import ENGLISH_STOP_WORDS # Total 318 words"
      ]
    },
    {
      "cell_type": "code",
      "execution_count": 22,
      "metadata": {
        "id": "edk3qpv3ahHb"
      },
      "outputs": [],
      "source": [
        "stopWords=list(ENGLISH_STOP_WORDS)"
      ]
    },
    {
      "cell_type": "markdown",
      "metadata": {
        "id": "riCKe-o0cPrh"
      },
      "source": [
        "We can also use stopwords from `ntlk`"
      ]
    },
    {
      "cell_type": "code",
      "execution_count": 21,
      "metadata": {
        "id": "m8NLDP1wb9Jc"
      },
      "outputs": [],
      "source": [
        "# from nltk.corpus import stopwords\n",
        "# nltk.download('stopwords')\n",
        "# stopWords=stopwords.words('english') # Total 179 words"
      ]
    },
    {
      "cell_type": "markdown",
      "metadata": {
        "id": "rnD8mkq2bT8i"
      },
      "source": [
        "Adding some more common stop words throughout all docs which doesn't play no part in classification"
      ]
    },
    {
      "cell_type": "code",
      "execution_count": 23,
      "metadata": {
        "id": "QC1Cl01pRPgA"
      },
      "outputs": [],
      "source": [
        "stopWords+=['subject','from', 'date', 'reply-to', 'newsgroups', 'message-id', 'lines', 'path', 'organization', \n",
        "            'would', 'writes', 'references', 'article', 'sender', 'nntp-posting-host', 'people', \n",
        "            'university', 'think', 'xref', 'cantaloupe.srv.cs.cmu.edu', 'could', 'distribution', 'first', \n",
        "            'anyone', 'really', 'since', 'believe', 'still', \n",
        "            \"max>'ax>'ax>'ax>'ax>'ax>'ax>'ax>'ax>'ax>'ax>'ax>'ax>'ax>'ax>'\"]"
      ]
    },
    {
      "cell_type": "code",
      "execution_count": 24,
      "metadata": {
        "id": "i7eUTJxN-yKD"
      },
      "outputs": [],
      "source": [
        "stopWords = set(stopWords)"
      ]
    },
    {
      "cell_type": "markdown",
      "metadata": {
        "id": "QyNH2U0kmhMr"
      },
      "source": [
        "## Lemmatizer\n",
        "Lemmatizer minimizes text ambiguity. Example words like bicycle or bicycles are converted to base word bicycle. Basically, it will convert all words having the same meaning but different representation to their base form. It reduces the word density in the given text and helps in preparing the accurate features for training machine. Cleaner the data, the more intelligent and accurate your machine learning model, will be. NLTK Lemmatizer will also saves memory as well as computational cost."
      ]
    },
    {
      "cell_type": "code",
      "execution_count": 25,
      "metadata": {
        "id": "W-a-VikmmuZt"
      },
      "outputs": [],
      "source": [
        "# Initialization\n",
        "lemmatizer = WordNetLemmatizer()\n",
        "\n",
        "# Creating a POS tag map\n",
        "tag_map = defaultdict(lambda : wn.NOUN)\n",
        "tag_map['J'] = wn.ADJ\n",
        "tag_map['V'] = wn.VERB\n",
        "tag_map['R'] = wn.ADV\n",
        "\n",
        "def convertWordIntoLemmatizeWord(words):\n",
        "  return [lemmatizer.lemmatize(word, tag_map[tag[0]]) for word, tag in pos_tag(words)]"
      ]
    },
    {
      "cell_type": "markdown",
      "metadata": {
        "id": "hpN2BUKBkhcO"
      },
      "source": [
        "## Defining a pre-process function\n",
        "\n",
        "* Remove numbers. ✅\n",
        "* Convert word into lowercase word. ✅\n",
        "* Remove all stop words. ✅\n",
        "* Remove all punctuations. ✅\n",
        "* Some white spaces may be added to the list of words, due to the translate function & nature of our documents. Remove them as well. ✅\n",
        "* Remove just-numeric strings. ✅\n",
        "* Lemmatize. ✅\n",
        "* Remove words with only 2 characters or less. [Low frequency] ✅\n",
        "* Remove words with more than 12 characters. [High frequency] ✅\n"
      ]
    },
    {
      "cell_type": "code",
      "execution_count": 26,
      "metadata": {
        "id": "DlLtEGJpdfX0"
      },
      "outputs": [],
      "source": [
        "def preprocess(words):\n",
        "  #First, remove numbers\n",
        "  words = [re.sub(r\"\\d+\", \"\", word) for word in words]\n",
        "  #Normalize the cases of our words\n",
        "  words = [word.lower() for word in words]\n",
        "  #Remove all punctuations\n",
        "  table = str.maketrans('', '', punctuation)\n",
        "  words = [word.translate(table) for word in words]\n",
        "  #Some white spaces may be added to the list of words, due to the translate function & nature of our documents. We've to remove them.\n",
        "  words = [word for word in words if word]\n",
        "  #Remove just-numeric strings\n",
        "  words = [word for word in words if not word.isdigit()]\n",
        "  #Lemmatize\n",
        "  words = convertWordIntoLemmatizeWord(words)\n",
        "  #Remove all stop words\n",
        "  words = [word for word in words if word not in stopWords]\n",
        "  #Remove words with less than 3 characters and more than 12 characters\n",
        "  words = [word for word in words if len(word) > 2 and len(word) <= 12]\n",
        "  return words"
      ]
    },
    {
      "cell_type": "markdown",
      "metadata": {
        "id": "sgTcA5IutUOn"
      },
      "source": [
        "## Creating pre-process documents function"
      ]
    },
    {
      "cell_type": "code",
      "execution_count": 27,
      "metadata": {
        "id": "qYpwjcBztgOX"
      },
      "outputs": [],
      "source": [
        "def preprocess_documents(docs):\n",
        "  preprocessed_docs = []\n",
        "  for doc in docs:\n",
        "    words = word_tokenize(doc)\n",
        "    words = preprocess(words)\n",
        "    preprocessed_docs.append(\" \".join(words))\n",
        "  return preprocessed_docs"
      ]
    },
    {
      "cell_type": "markdown",
      "metadata": {
        "id": "HBO4ak08m0ge"
      },
      "source": [
        "## Preprocess training data"
      ]
    },
    {
      "cell_type": "markdown",
      "metadata": {
        "id": "5yD_U5hPxI6k"
      },
      "source": [
        "Raw data:"
      ]
    },
    {
      "cell_type": "code",
      "execution_count": 28,
      "metadata": {
        "colab": {
          "base_uri": "https://localhost:8080/",
          "height": 107
        },
        "id": "Xnswc-aGnR60",
        "outputId": "a72cf4b9-60ff-457c-91c9-4ca958e79a37"
      },
      "outputs": [
        {
          "data": {
            "text/plain": [
              "\"From: jjd1@cbnewsg.cb.att.com (james.j.dutton)\\nSubject: Re: bikes with big dogs\\nOrganization: AT&T\\nDistribution: na\\nLines: 20\\n\\nIn article <1993Apr14.234835.1@cua.edu> 84wendel@cua.edu writes:\\n>Has anyone ever heard of a rider giving a big dog such as a great dane a ride \\n>on the back of his bike.  My dog would love it if I could ever make it work.\\n>\\tThanks\\n>\\t\\t\\t84wendel@cua.edu\\n \\n If a large Malmute counts then yes someone has heard(and seen) such\\nan irresponsible childish stunt. The dog needed assistance straightening\\nout once on board. The owner would lift the front legs of dog and throw\\nthem over the driver/pilots shoulders. Said dog would get shit eating\\ngrin on its face and away they'd go. The dogs ass was firmly planted\\non the seat.\\n \\n My dog and this dog actively seek each other out at camping party's.\\nThey hate each other. I think it's something personal.\\n \\n================================================================================\\n Steatopygias's 'R' Us.          doh#0000000005 That ain't no Hottentot.\\n Sesquipedalian's 'R' Us. ZX-10. AMA#669373 DoD#564. There ain't no more.\\n================================================================================\\n\""
            ]
          },
          "execution_count": 28,
          "metadata": {},
          "output_type": "execute_result"
        }
      ],
      "source": [
        "train_docs[0]"
      ]
    },
    {
      "cell_type": "markdown",
      "metadata": {
        "id": "9JePJ4SRxc2i"
      },
      "source": [
        "Pre-processing documents:"
      ]
    },
    {
      "cell_type": "code",
      "execution_count": 29,
      "metadata": {
        "id": "1FVJpy-Fm1H5"
      },
      "outputs": [],
      "source": [
        "preprocessed_train_docs = preprocess_documents(train_docs)"
      ]
    },
    {
      "cell_type": "markdown",
      "metadata": {
        "id": "xQIH_UvwxmZf"
      },
      "source": [
        "Pre-processed data:"
      ]
    },
    {
      "cell_type": "code",
      "execution_count": 30,
      "metadata": {
        "colab": {
          "base_uri": "https://localhost:8080/",
          "height": 53
        },
        "id": "hGjHy9mOWCmk",
        "outputId": "4334d206-ee1d-4ee0-fe77-6a27cc27d1c9"
      },
      "outputs": [
        {
          "data": {
            "text/plain": [
              "'jjd jamesjdutton bike big dog line apr cuaedu wendel cuaedu write heard rider big dog great dane ride bike dog love make work thanks wendel cuaedu large malmute count yes hear childish stunt dog need assistance straighten board owner lift leg dog throw driverpilots shoulder say dog shit eat grin face away dog firmly plant seat dog dog actively seek camp party hate personal steatopygia doh hottentot ama dod'"
            ]
          },
          "execution_count": 30,
          "metadata": {},
          "output_type": "execute_result"
        }
      ],
      "source": [
        "preprocessed_train_docs[0]"
      ]
    },
    {
      "cell_type": "markdown",
      "metadata": {
        "id": "tDssF9kM5Lad"
      },
      "source": [
        "Preparing DataFrame:"
      ]
    },
    {
      "cell_type": "code",
      "execution_count": 31,
      "metadata": {
        "colab": {
          "base_uri": "https://localhost:8080/",
          "height": 206
        },
        "id": "km-8cmcF5MBr",
        "outputId": "23d06364-bc5c-4aac-abe2-cb370ddb4275"
      },
      "outputs": [
        {
          "data": {
            "text/html": [
              "<div>\n",
              "<style scoped>\n",
              "    .dataframe tbody tr th:only-of-type {\n",
              "        vertical-align: middle;\n",
              "    }\n",
              "\n",
              "    .dataframe tbody tr th {\n",
              "        vertical-align: top;\n",
              "    }\n",
              "\n",
              "    .dataframe thead th {\n",
              "        text-align: right;\n",
              "    }\n",
              "</style>\n",
              "<table border=\"1\" class=\"dataframe\">\n",
              "  <thead>\n",
              "    <tr style=\"text-align: right;\">\n",
              "      <th></th>\n",
              "      <th>data</th>\n",
              "      <th>target</th>\n",
              "    </tr>\n",
              "  </thead>\n",
              "  <tbody>\n",
              "    <tr>\n",
              "      <th>0</th>\n",
              "      <td>jjd jamesjdutton bike big dog line apr cuaedu ...</td>\n",
              "      <td>rec.motorcycles</td>\n",
              "    </tr>\n",
              "    <tr>\n",
              "      <th>1</th>\n",
              "      <td>remmons robert emmons mail order articleid iat...</td>\n",
              "      <td>rec.motorcycles</td>\n",
              "    </tr>\n",
              "    <tr>\n",
              "      <th>2</th>\n",
              "      <td>nrmendel nathaniel mendell opinion want help a...</td>\n",
              "      <td>rec.motorcycles</td>\n",
              "    </tr>\n",
              "    <tr>\n",
              "      <th>3</th>\n",
              "      <td>ramarren applecom godfrey digiorgi der whassa ...</td>\n",
              "      <td>rec.motorcycles</td>\n",
              "    </tr>\n",
              "    <tr>\n",
              "      <th>4</th>\n",
              "      <td>jburnside llmitedu jamie burnside bike want ad...</td>\n",
              "      <td>rec.motorcycles</td>\n",
              "    </tr>\n",
              "  </tbody>\n",
              "</table>\n",
              "</div>"
            ],
            "text/plain": [
              "                                                data           target\n",
              "0  jjd jamesjdutton bike big dog line apr cuaedu ...  rec.motorcycles\n",
              "1  remmons robert emmons mail order articleid iat...  rec.motorcycles\n",
              "2  nrmendel nathaniel mendell opinion want help a...  rec.motorcycles\n",
              "3  ramarren applecom godfrey digiorgi der whassa ...  rec.motorcycles\n",
              "4  jburnside llmitedu jamie burnside bike want ad...  rec.motorcycles"
            ]
          },
          "execution_count": 31,
          "metadata": {},
          "output_type": "execute_result"
        }
      ],
      "source": [
        "training_df = pd.DataFrame({'data': preprocessed_train_docs, 'target': train_labels})\n",
        "training_df.head()"
      ]
    },
    {
      "cell_type": "markdown",
      "metadata": {
        "id": "gcLn16-LtnSm"
      },
      "source": [
        "Saving as CSV:"
      ]
    },
    {
      "cell_type": "code",
      "execution_count": 32,
      "metadata": {
        "id": "LAEG2CSitH24"
      },
      "outputs": [],
      "source": [
        "training_df.to_csv(f'{BASE_PATH}training_df.csv', index=False, encoding='utf-8')"
      ]
    },
    {
      "cell_type": "markdown",
      "metadata": {
        "id": "BulhcFiBxwIj"
      },
      "source": [
        "## Preprocess testing data"
      ]
    },
    {
      "cell_type": "markdown",
      "metadata": {
        "id": "3Usw7tOsxwIj"
      },
      "source": [
        "Raw data:"
      ]
    },
    {
      "cell_type": "code",
      "execution_count": 33,
      "metadata": {
        "colab": {
          "base_uri": "https://localhost:8080/",
          "height": 143
        },
        "id": "6Ppn83WtxwIj",
        "outputId": "f1bb2800-5583-4cba-eae6-f8aa97a1c44f"
      },
      "outputs": [
        {
          "data": {
            "text/plain": [
              "'From: chrispi@microsoft.com (Chris Pirih)\\nSubject: Re: First Bike??\\nOrganization: Microsoft Corporation\\nLines: 39\\n\\nIn rec.motorcycles James Leo Belliveau <jbc9+@andrew.cmu.edu> writes:\\n;    I am a serious motorcycle enthusiast without a motorcycle, and to\\n;put it bluntly, it sucks.  I really would like some advice on what would\\n;be a good starter bike for me.  I do know one thing however, I need to\\n;make my first bike a good one, because buying a second any time soon is\\n;out of the question.  I am specifically interested in racing bikes, (CBR\\n;600 F2, GSX-R 750).  I know that this may sound kind of crazy\\n;considering that I\\'ve never had a bike before, but I am responsible, a\\n;fast learner, and in love.  \\n\\nResponsible and in love?  I believe that\\'s a contradiction\\nin terms.\\n\\nUnless you\\'re really brave (read: \"reckless\") a 500cc sport\\nbike will go way faster than you dare for at least your first\\nyear of riding.  Getting more than that really is overkill,\\nas you\\'ll never even want to use it.  The following bikes\\ncan be bought (and repaired!) cheaply, are easy for a novice\\nto manage, and are plenty high performance:\\n    Kawasaki EX-500\\n    Honda VF-500 \"Interceptor\"\\n    Suzuki GS-550E\\n\\nThe 0-100mph time of the EX-500 at full throttle is \"way\\nsooner than you\\'re ready for it\".  :-)  With something\\nas small as a 250, you\\'d probably be wishing for more\\npower pretty quickly (unless it\\'s a TZR or RGV :).\\n\\nNow, I\\'m not saying that you\\'re 100% certain to kill\\nyourself immediately with a 600f2 or a GSXR-750.  Plenty\\nof people have started riding on those bikes and done\\njust fine.  What I am saying is that it\\'s a waste of\\nmoney, and a waste of perfectly good plastic when you\\ndrop the thing learning how to balance while stopping.\\nYou\\'ll never get the throttle more than half open\\nanyway, so why spend the extra 2000 bucks?\\n\\n---\\nchris\\n'"
            ]
          },
          "execution_count": 33,
          "metadata": {},
          "output_type": "execute_result"
        }
      ],
      "source": [
        "test_docs[0]"
      ]
    },
    {
      "cell_type": "markdown",
      "metadata": {
        "id": "UNFygopbxwIk"
      },
      "source": [
        "Pre-processing documents:"
      ]
    },
    {
      "cell_type": "code",
      "execution_count": 34,
      "metadata": {
        "id": "Gl52PQmmxwIk"
      },
      "outputs": [],
      "source": [
        "preprocessed_test_docs = preprocess_documents(test_docs)"
      ]
    },
    {
      "cell_type": "markdown",
      "metadata": {
        "id": "FbfPoiTHxwIk"
      },
      "source": [
        "Pre-processed data:"
      ]
    },
    {
      "cell_type": "code",
      "execution_count": 35,
      "metadata": {
        "colab": {
          "base_uri": "https://localhost:8080/",
          "height": 143
        },
        "id": "57g4X7ZFxwIk",
        "outputId": "12441012-1b58-4dc7-e792-51130913d599"
      },
      "outputs": [
        {
          "data": {
            "text/plain": [
              "'chrispi microsoftcom chris pirih bike microsoft corporation line james leo belliveau jbc andrewcmuedu write motorcycle enthusiast motorcycle bluntly suck like advice good starter bike know thing need make bike good buy second time soon question specifically interested race bike cbr gsxr know sound kind crazy consider bike responsible fast learner love responsible love term unless brave read reckless sport bike way faster dare year rid overkill want use following bike buy repair cheaply easy novice manage plenty high performance kawasaki honda interceptor suzuki gse mph time throttle way sooner ready small probably wish power pretty quickly unless tzr rgv say certain kill immediately gsxr plenty start rid bike just fine say waste money waste perfectly good plastic drop thing learn balance stop throttle half open spend extra buck chris'"
            ]
          },
          "execution_count": 35,
          "metadata": {},
          "output_type": "execute_result"
        }
      ],
      "source": [
        "preprocessed_test_docs[0]"
      ]
    },
    {
      "cell_type": "markdown",
      "metadata": {
        "id": "jrZYNGuh6pjw"
      },
      "source": [
        "Preparing DataFrame:"
      ]
    },
    {
      "cell_type": "code",
      "execution_count": 36,
      "metadata": {
        "colab": {
          "base_uri": "https://localhost:8080/",
          "height": 206
        },
        "id": "0wzN5zJGxwIk",
        "outputId": "50f0244f-e425-48dd-bcc5-18925dd1d56b"
      },
      "outputs": [
        {
          "data": {
            "text/html": [
              "<div>\n",
              "<style scoped>\n",
              "    .dataframe tbody tr th:only-of-type {\n",
              "        vertical-align: middle;\n",
              "    }\n",
              "\n",
              "    .dataframe tbody tr th {\n",
              "        vertical-align: top;\n",
              "    }\n",
              "\n",
              "    .dataframe thead th {\n",
              "        text-align: right;\n",
              "    }\n",
              "</style>\n",
              "<table border=\"1\" class=\"dataframe\">\n",
              "  <thead>\n",
              "    <tr style=\"text-align: right;\">\n",
              "      <th></th>\n",
              "      <th>data</th>\n",
              "      <th>target</th>\n",
              "    </tr>\n",
              "  </thead>\n",
              "  <tbody>\n",
              "    <tr>\n",
              "      <th>0</th>\n",
              "      <td>chrispi microsoftcom chris pirih bike microsof...</td>\n",
              "      <td>rec.motorcycles</td>\n",
              "    </tr>\n",
              "    <tr>\n",
              "      <th>1</th>\n",
              "      <td>mbeaving bnrca beav opinion mean bmerh replyto...</td>\n",
              "      <td>rec.motorcycles</td>\n",
              "    </tr>\n",
              "    <tr>\n",
              "      <th>2</th>\n",
              "      <td>arturo informixcom arturo vega bonding caged c...</td>\n",
              "      <td>rec.motorcycles</td>\n",
              "    </tr>\n",
              "    <tr>\n",
              "      <th>3</th>\n",
              "      <td>mrr pocwruedu mark rabne insure cbrf case west...</td>\n",
              "      <td>rec.motorcycles</td>\n",
              "    </tr>\n",
              "    <tr>\n",
              "      <th>4</th>\n",
              "      <td>wayneorwig wayne orwig battery storage charge ...</td>\n",
              "      <td>rec.motorcycles</td>\n",
              "    </tr>\n",
              "  </tbody>\n",
              "</table>\n",
              "</div>"
            ],
            "text/plain": [
              "                                                data           target\n",
              "0  chrispi microsoftcom chris pirih bike microsof...  rec.motorcycles\n",
              "1  mbeaving bnrca beav opinion mean bmerh replyto...  rec.motorcycles\n",
              "2  arturo informixcom arturo vega bonding caged c...  rec.motorcycles\n",
              "3  mrr pocwruedu mark rabne insure cbrf case west...  rec.motorcycles\n",
              "4  wayneorwig wayne orwig battery storage charge ...  rec.motorcycles"
            ]
          },
          "execution_count": 36,
          "metadata": {},
          "output_type": "execute_result"
        }
      ],
      "source": [
        "testing_df = pd.DataFrame({'data': preprocessed_test_docs, 'target': test_labels})\n",
        "testing_df.head()"
      ]
    },
    {
      "cell_type": "markdown",
      "metadata": {
        "id": "dGfql084t28O"
      },
      "source": [
        "Saving as CSV:"
      ]
    },
    {
      "cell_type": "code",
      "execution_count": 37,
      "metadata": {
        "id": "DZxeqX-9t3HB"
      },
      "outputs": [],
      "source": [
        "testing_df.to_csv(f'{BASE_PATH}testing_df.csv', index=False, encoding='utf-8')"
      ]
    },
    {
      "cell_type": "markdown",
      "metadata": {
        "id": "9iW6IW_VNDJw"
      },
      "source": [
        "# Bag of WORDS: TF-IDF Vectorizer"
      ]
    },
    {
      "cell_type": "code",
      "execution_count": 38,
      "metadata": {
        "id": "C1mjSiPU6xcQ"
      },
      "outputs": [],
      "source": [
        "from sklearn.feature_extraction.text import TfidfVectorizer"
      ]
    },
    {
      "cell_type": "markdown",
      "metadata": {
        "id": "J1AubdN5uGOv"
      },
      "source": [
        "Reading TRAINING from CSV:"
      ]
    },
    {
      "cell_type": "code",
      "execution_count": 39,
      "metadata": {
        "id": "57OiI3tpuF8Y"
      },
      "outputs": [],
      "source": [
        "training_df = pd.read_csv(f'{BASE_PATH}training_df.csv') "
      ]
    },
    {
      "cell_type": "markdown",
      "metadata": {
        "id": "ebrTGRCCvGsj"
      },
      "source": [
        "Reading TESTING from CSV:"
      ]
    },
    {
      "cell_type": "code",
      "execution_count": 40,
      "metadata": {
        "id": "dMD2yGOGvJkK"
      },
      "outputs": [],
      "source": [
        "testing_df = pd.read_csv(f'{BASE_PATH}testing_df.csv') "
      ]
    },
    {
      "cell_type": "markdown",
      "metadata": {
        "id": "tCr8T0K6hac7"
      },
      "source": [
        "We next convert our corpus into tf-idf vectors."
      ]
    },
    {
      "cell_type": "code",
      "execution_count": 41,
      "metadata": {
        "id": "bo7_0N8GNNJq"
      },
      "outputs": [],
      "source": [
        "# tfidfV = TfidfVectorizer() \n",
        "tfidfV = TfidfVectorizer(min_df=2, max_df=0.5) # We remove terms with very low document frequency (many of them are numbers or misspells)."
      ]
    },
    {
      "cell_type": "markdown",
      "metadata": {
        "id": "ZQHayvSBOqjt"
      },
      "source": [
        "`fit_transform` learns the vocab and one-hot encodes "
      ]
    },
    {
      "cell_type": "code",
      "execution_count": 42,
      "metadata": {
        "id": "n99faiacOfLe"
      },
      "outputs": [],
      "source": [
        "X_train_tfidfV = tfidfV.fit_transform(training_df.data)"
      ]
    },
    {
      "cell_type": "code",
      "execution_count": 43,
      "metadata": {
        "colab": {
          "base_uri": "https://localhost:8080/"
        },
        "id": "zYty2l49PwSr",
        "outputId": "21f42f7a-c939-42dc-80dd-c55983cfa2e8"
      },
      "outputs": [
        {
          "name": "stdout",
          "output_type": "stream",
          "text": [
            "(1728, 10114)\n"
          ]
        }
      ],
      "source": [
        "print(X_train_tfidfV.shape)"
      ]
    },
    {
      "cell_type": "markdown",
      "metadata": {
        "id": "pNGiKkZlO2Sj"
      },
      "source": [
        "`transform` uses the same vocab and one-hot encodes"
      ]
    },
    {
      "cell_type": "code",
      "execution_count": 44,
      "metadata": {
        "id": "hQ8HMhOZOxQA"
      },
      "outputs": [],
      "source": [
        "X_test_tfidfV = tfidfV.transform(testing_df.data)"
      ]
    },
    {
      "cell_type": "code",
      "execution_count": 45,
      "metadata": {
        "colab": {
          "base_uri": "https://localhost:8080/"
        },
        "id": "d_nUaOQGOyfV",
        "outputId": "ea5c10e4-7d6c-487e-899a-c38545db7c76"
      },
      "outputs": [
        {
          "name": "stdout",
          "output_type": "stream",
          "text": [
            "(1151, 10114)\n"
          ]
        }
      ],
      "source": [
        "print(X_test_tfidfV.shape)"
      ]
    },
    {
      "cell_type": "code",
      "execution_count": 46,
      "metadata": {
        "colab": {
          "base_uri": "https://localhost:8080/",
          "height": 236
        },
        "id": "wPr1SFHGPyl7",
        "outputId": "917ba60e-e4a9-4d91-92ac-4b0bf8fcea90"
      },
      "outputs": [
        {
          "data": {
            "text/html": [
              "<div>\n",
              "<style scoped>\n",
              "    .dataframe tbody tr th:only-of-type {\n",
              "        vertical-align: middle;\n",
              "    }\n",
              "\n",
              "    .dataframe tbody tr th {\n",
              "        vertical-align: top;\n",
              "    }\n",
              "\n",
              "    .dataframe thead th {\n",
              "        text-align: right;\n",
              "    }\n",
              "</style>\n",
              "<table border=\"1\" class=\"dataframe\">\n",
              "  <thead>\n",
              "    <tr style=\"text-align: right;\">\n",
              "      <th></th>\n",
              "      <th>aaah</th>\n",
              "      <th>aaffff</th>\n",
              "      <th>aarghhhh</th>\n",
              "      <th>aaron</th>\n",
              "      <th>abad</th>\n",
              "      <th>abandon</th>\n",
              "      <th>abate</th>\n",
              "      <th>abc</th>\n",
              "      <th>abd</th>\n",
              "      <th>abel</th>\n",
              "      <th>...</th>\n",
              "      <th>zipgun</th>\n",
              "      <th>znextctscom</th>\n",
              "      <th>zog</th>\n",
              "      <th>zone</th>\n",
              "      <th>zoom</th>\n",
              "      <th>zoomins</th>\n",
              "      <th>zxa</th>\n",
              "      <th>zyeh</th>\n",
              "      <th>zyxel</th>\n",
              "      <th>zzr</th>\n",
              "    </tr>\n",
              "  </thead>\n",
              "  <tbody>\n",
              "    <tr>\n",
              "      <th>0</th>\n",
              "      <td>0.0</td>\n",
              "      <td>0.0</td>\n",
              "      <td>0.0</td>\n",
              "      <td>0.0</td>\n",
              "      <td>0.0</td>\n",
              "      <td>0.0</td>\n",
              "      <td>0.0</td>\n",
              "      <td>0.0</td>\n",
              "      <td>0.0</td>\n",
              "      <td>0.0</td>\n",
              "      <td>...</td>\n",
              "      <td>0.0</td>\n",
              "      <td>0.0</td>\n",
              "      <td>0.0</td>\n",
              "      <td>0.0</td>\n",
              "      <td>0.0</td>\n",
              "      <td>0.0</td>\n",
              "      <td>0.0</td>\n",
              "      <td>0.0</td>\n",
              "      <td>0.0</td>\n",
              "      <td>0.0</td>\n",
              "    </tr>\n",
              "    <tr>\n",
              "      <th>1</th>\n",
              "      <td>0.0</td>\n",
              "      <td>0.0</td>\n",
              "      <td>0.0</td>\n",
              "      <td>0.0</td>\n",
              "      <td>0.0</td>\n",
              "      <td>0.0</td>\n",
              "      <td>0.0</td>\n",
              "      <td>0.0</td>\n",
              "      <td>0.0</td>\n",
              "      <td>0.0</td>\n",
              "      <td>...</td>\n",
              "      <td>0.0</td>\n",
              "      <td>0.0</td>\n",
              "      <td>0.0</td>\n",
              "      <td>0.0</td>\n",
              "      <td>0.0</td>\n",
              "      <td>0.0</td>\n",
              "      <td>0.0</td>\n",
              "      <td>0.0</td>\n",
              "      <td>0.0</td>\n",
              "      <td>0.0</td>\n",
              "    </tr>\n",
              "    <tr>\n",
              "      <th>2</th>\n",
              "      <td>0.0</td>\n",
              "      <td>0.0</td>\n",
              "      <td>0.0</td>\n",
              "      <td>0.0</td>\n",
              "      <td>0.0</td>\n",
              "      <td>0.0</td>\n",
              "      <td>0.0</td>\n",
              "      <td>0.0</td>\n",
              "      <td>0.0</td>\n",
              "      <td>0.0</td>\n",
              "      <td>...</td>\n",
              "      <td>0.0</td>\n",
              "      <td>0.0</td>\n",
              "      <td>0.0</td>\n",
              "      <td>0.0</td>\n",
              "      <td>0.0</td>\n",
              "      <td>0.0</td>\n",
              "      <td>0.0</td>\n",
              "      <td>0.0</td>\n",
              "      <td>0.0</td>\n",
              "      <td>0.0</td>\n",
              "    </tr>\n",
              "    <tr>\n",
              "      <th>3</th>\n",
              "      <td>0.0</td>\n",
              "      <td>0.0</td>\n",
              "      <td>0.0</td>\n",
              "      <td>0.0</td>\n",
              "      <td>0.0</td>\n",
              "      <td>0.0</td>\n",
              "      <td>0.0</td>\n",
              "      <td>0.0</td>\n",
              "      <td>0.0</td>\n",
              "      <td>0.0</td>\n",
              "      <td>...</td>\n",
              "      <td>0.0</td>\n",
              "      <td>0.0</td>\n",
              "      <td>0.0</td>\n",
              "      <td>0.0</td>\n",
              "      <td>0.0</td>\n",
              "      <td>0.0</td>\n",
              "      <td>0.0</td>\n",
              "      <td>0.0</td>\n",
              "      <td>0.0</td>\n",
              "      <td>0.0</td>\n",
              "    </tr>\n",
              "    <tr>\n",
              "      <th>4</th>\n",
              "      <td>0.0</td>\n",
              "      <td>0.0</td>\n",
              "      <td>0.0</td>\n",
              "      <td>0.0</td>\n",
              "      <td>0.0</td>\n",
              "      <td>0.0</td>\n",
              "      <td>0.0</td>\n",
              "      <td>0.0</td>\n",
              "      <td>0.0</td>\n",
              "      <td>0.0</td>\n",
              "      <td>...</td>\n",
              "      <td>0.0</td>\n",
              "      <td>0.0</td>\n",
              "      <td>0.0</td>\n",
              "      <td>0.0</td>\n",
              "      <td>0.0</td>\n",
              "      <td>0.0</td>\n",
              "      <td>0.0</td>\n",
              "      <td>0.0</td>\n",
              "      <td>0.0</td>\n",
              "      <td>0.0</td>\n",
              "    </tr>\n",
              "  </tbody>\n",
              "</table>\n",
              "<p>5 rows × 10114 columns</p>\n",
              "</div>"
            ],
            "text/plain": [
              "   aaah  aaffff  aarghhhh  aaron  abad  abandon  abate  abc  abd  abel  ...  \\\n",
              "0   0.0     0.0       0.0    0.0   0.0      0.0    0.0  0.0  0.0   0.0  ...   \n",
              "1   0.0     0.0       0.0    0.0   0.0      0.0    0.0  0.0  0.0   0.0  ...   \n",
              "2   0.0     0.0       0.0    0.0   0.0      0.0    0.0  0.0  0.0   0.0  ...   \n",
              "3   0.0     0.0       0.0    0.0   0.0      0.0    0.0  0.0  0.0   0.0  ...   \n",
              "4   0.0     0.0       0.0    0.0   0.0      0.0    0.0  0.0  0.0   0.0  ...   \n",
              "\n",
              "   zipgun  znextctscom  zog  zone  zoom  zoomins  zxa  zyeh  zyxel  zzr  \n",
              "0     0.0          0.0  0.0   0.0   0.0      0.0  0.0   0.0    0.0  0.0  \n",
              "1     0.0          0.0  0.0   0.0   0.0      0.0  0.0   0.0    0.0  0.0  \n",
              "2     0.0          0.0  0.0   0.0   0.0      0.0  0.0   0.0    0.0  0.0  \n",
              "3     0.0          0.0  0.0   0.0   0.0      0.0  0.0   0.0    0.0  0.0  \n",
              "4     0.0          0.0  0.0   0.0   0.0      0.0  0.0   0.0    0.0  0.0  \n",
              "\n",
              "[5 rows x 10114 columns]"
            ]
          },
          "execution_count": 46,
          "metadata": {},
          "output_type": "execute_result"
        }
      ],
      "source": [
        "X_train_tfidfV_df = pd.DataFrame(X_train_tfidfV.todense(), columns=tfidfV.get_feature_names_out())\n",
        "X_train_tfidfV_df.head()"
      ]
    }
  ],
  "metadata": {
    "colab": {
      "collapsed_sections": [
        "UcOPoLTScu4V",
        "S_BBNjjzc4m5",
        "c0cAeBowGUVP"
      ],
      "provenance": []
    },
    "kernelspec": {
      "display_name": "Python 3.10.6 ('base')",
      "language": "python",
      "name": "python3"
    },
    "language_info": {
      "codemirror_mode": {
        "name": "ipython",
        "version": 3
      },
      "file_extension": ".py",
      "mimetype": "text/x-python",
      "name": "python",
      "nbconvert_exporter": "python",
      "pygments_lexer": "ipython3",
      "version": "3.10.6"
    },
    "vscode": {
      "interpreter": {
        "hash": "6787912cc06540c826098c2e9891f9672e6365160866aa38805d4b2fc3d28660"
      }
    }
  },
  "nbformat": 4,
  "nbformat_minor": 0
}
