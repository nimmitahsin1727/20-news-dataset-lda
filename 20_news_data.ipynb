{
  "cells": [
    {
      "cell_type": "markdown",
      "metadata": {
        "id": "view-in-github",
        "colab_type": "text"
      },
      "source": [
        "<a href=\"https://colab.research.google.com/github/nimmitahsin1727/20-news-dataset-lda/blob/main/20_news_data.ipynb\" target=\"_parent\"><img src=\"https://colab.research.google.com/assets/colab-badge.svg\" alt=\"Open In Colab\"/></a>"
      ]
    },
    {
      "cell_type": "markdown",
      "metadata": {
        "id": "AuQXzf7-wRr5"
      },
      "source": [
        "# Mount Google Drive"
      ]
    },
    {
      "cell_type": "code",
      "execution_count": 1,
      "metadata": {
        "colab": {
          "base_uri": "https://localhost:8080/"
        },
        "id": "uJPT0Q6hwQUH",
        "outputId": "6025f750-3dc0-4fef-8414-5f2bb3342726"
      },
      "outputs": [
        {
          "output_type": "stream",
          "name": "stdout",
          "text": [
            "Mounted at /content/gdrive\n"
          ]
        }
      ],
      "source": [
        "from google.colab import drive\n",
        "drive.mount(\"/content/gdrive\", force_remount=True)"
      ]
    },
    {
      "cell_type": "code",
      "execution_count": 2,
      "metadata": {
        "id": "XqCFCvXM5AFf"
      },
      "outputs": [],
      "source": [
        "BASE_PATH = \"/content/gdrive/MyDrive/MSC research/document clustering/\""
      ]
    },
    {
      "cell_type": "markdown",
      "metadata": {
        "id": "UcOPoLTScu4V"
      },
      "source": [
        "#Importing libraries"
      ]
    },
    {
      "cell_type": "code",
      "execution_count": 3,
      "metadata": {
        "colab": {
          "base_uri": "https://localhost:8080/"
        },
        "id": "FUvPDKDdu_Sc",
        "outputId": "0168e6f7-ae91-49b5-bcdd-c28251dcae2e"
      },
      "outputs": [
        {
          "output_type": "stream",
          "name": "stderr",
          "text": [
            "[nltk_data] Downloading package punkt to /root/nltk_data...\n",
            "[nltk_data]   Unzipping tokenizers/punkt.zip.\n",
            "[nltk_data] Downloading package wordnet to /root/nltk_data...\n",
            "[nltk_data] Downloading package omw-1.4 to /root/nltk_data...\n",
            "[nltk_data] Downloading package averaged_perceptron_tagger to\n",
            "[nltk_data]     /root/nltk_data...\n",
            "[nltk_data]   Unzipping taggers/averaged_perceptron_tagger.zip.\n"
          ]
        },
        {
          "output_type": "execute_result",
          "data": {
            "text/plain": [
              "True"
            ]
          },
          "metadata": {},
          "execution_count": 3
        }
      ],
      "source": [
        "import glob\n",
        "import os\n",
        "import numpy as np\n",
        "import pandas as pd\n",
        "from collections import defaultdict\n",
        "from string import punctuation\n",
        "import re\n",
        "import matplotlib.pyplot as plt\n",
        "%matplotlib inline\n",
        "\n",
        "import nltk\n",
        "nltk.download('punkt')\n",
        "from nltk.corpus import wordnet as wn\n",
        "nltk.download('wordnet')\n",
        "nltk.download('omw-1.4')\n",
        "from nltk.stem.wordnet import WordNetLemmatizer\n",
        "from nltk import word_tokenize, pos_tag\n",
        "nltk.download('averaged_perceptron_tagger') # need for pos_tag"
      ]
    },
    {
      "cell_type": "markdown",
      "metadata": {
        "id": "S_BBNjjzc4m5"
      },
      "source": [
        "#Loading Data"
      ]
    },
    {
      "cell_type": "code",
      "execution_count": 4,
      "metadata": {
        "id": "21Njh2W6rrlL"
      },
      "outputs": [],
      "source": [
        "def read_documents_20ng(data_path_train):\n",
        "  docs = []\n",
        "  labels = []\n",
        "\n",
        "  a = glob.glob(os.path.join(data_path_train, '*'))\n",
        "  for aa in a:\n",
        "      b = glob.glob(os.path.join(aa, '*'))\n",
        "      for bb in b:\n",
        "          with open(bb, encoding='latin1') as f:\n",
        "              docs.append(f.read())\n",
        "              labels.append(aa.replace(data_path_train, ''))\n",
        "\n",
        "  return docs, labels"
      ]
    },
    {
      "cell_type": "markdown",
      "metadata": {
        "id": "bkHucmm0dh3q"
      },
      "source": [
        "## Training Data"
      ]
    },
    {
      "cell_type": "markdown",
      "metadata": {
        "id": "2gWgBYNXgz1s"
      },
      "source": [
        "### Data loading"
      ]
    },
    {
      "cell_type": "code",
      "execution_count": 5,
      "metadata": {
        "id": "pU-V8REhuu9a"
      },
      "outputs": [],
      "source": [
        "data_path_train = BASE_PATH + 'data/20news-bydate-train/'"
      ]
    },
    {
      "cell_type": "code",
      "execution_count": 6,
      "metadata": {
        "id": "lct6e7i-uRL1"
      },
      "outputs": [],
      "source": [
        "train_docs, train_labels = read_documents_20ng(data_path_train)"
      ]
    },
    {
      "cell_type": "code",
      "execution_count": 7,
      "metadata": {
        "colab": {
          "base_uri": "https://localhost:8080/"
        },
        "id": "ZzFd9xA-v0Eu",
        "outputId": "679c3916-f312-44e6-fb1f-e14b0ea71fe8"
      },
      "outputs": [
        {
          "output_type": "stream",
          "name": "stdout",
          "text": [
            "Training data: 1728\n",
            "Number of categories: 3\n",
            "Categories: ['comp.graphics' 'rec.motorcycles' 'talk.politics.guns']\n"
          ]
        }
      ],
      "source": [
        "print('Training data:', len(train_docs))\n",
        "print('Number of categories:', len(np.unique(train_labels)))\n",
        "print('Categories:', np.unique(train_labels))"
      ]
    },
    {
      "cell_type": "markdown",
      "metadata": {
        "id": "h3nuxKbQgs-x"
      },
      "source": [
        "### Finding frequency of each category"
      ]
    },
    {
      "cell_type": "code",
      "execution_count": 8,
      "metadata": {
        "colab": {
          "base_uri": "https://localhost:8080/"
        },
        "id": "zfzkAmmRl0Qq",
        "outputId": "fa5af8ae-733e-4ed2-c74d-c8c8052464b0"
      },
      "outputs": [
        {
          "output_type": "execute_result",
          "data": {
            "text/plain": [
              "1728"
            ]
          },
          "metadata": {},
          "execution_count": 8
        }
      ],
      "source": [
        "len(train_labels)"
      ]
    },
    {
      "cell_type": "code",
      "execution_count": 9,
      "metadata": {
        "colab": {
          "base_uri": "https://localhost:8080/"
        },
        "id": "I892lCBMfdgG",
        "outputId": "981b531d-ad61-4b6a-9fbc-88c22a91f0fd"
      },
      "outputs": [
        {
          "output_type": "stream",
          "name": "stdout",
          "text": [
            "['comp.graphics' 'rec.motorcycles' 'talk.politics.guns']\n",
            "[584 598 546]\n",
            "[('comp.graphics', 584), ('rec.motorcycles', 598), ('talk.politics.guns', 546)]\n"
          ]
        }
      ],
      "source": [
        "train_targets, train_frequency = np.unique(train_labels, return_counts=True)\n",
        "print(train_targets)\n",
        "print(train_frequency)\n",
        "print(list(zip(train_targets, train_frequency)))"
      ]
    },
    {
      "cell_type": "markdown",
      "metadata": {
        "id": "DFgFb2AMgIQR"
      },
      "source": [
        "### Class distribution\n"
      ]
    },
    {
      "cell_type": "code",
      "execution_count": 10,
      "metadata": {
        "colab": {
          "base_uri": "https://localhost:8080/",
          "height": 468
        },
        "id": "RbobCRWfgJLk",
        "outputId": "f3ca5a9a-f42c-43b1-eae4-e41bfa5e33b0"
      },
      "outputs": [
        {
          "output_type": "display_data",
          "data": {
            "text/plain": [
              "<Figure size 800x400 with 1 Axes>"
            ],
            "image/png": "[encoded data removed]"
          },
          "metadata": {}
        }
      ],
      "source": [
        "fig=plt.figure(figsize=(10, 5), dpi= 80, facecolor='w', edgecolor='k')\n",
        "plt.bar(train_targets, train_frequency)\n",
        "plt.xticks(rotation=90)\n",
        "plt.title(f'Class distribution of {len(train_targets)} Newsgroups Training Data')\n",
        "plt.xlabel('News Group')\n",
        "plt.ylabel('Frequency')\n",
        "plt.show()"
      ]
    },
    {
      "cell_type": "markdown",
      "metadata": {
        "id": "86CppP0tdsgc"
      },
      "source": [
        "## Testing Data"
      ]
    },
    {
      "cell_type": "markdown",
      "metadata": {
        "id": "HeChmhxxiZd7"
      },
      "source": [
        "### Data loading"
      ]
    },
    {
      "cell_type": "code",
      "execution_count": 11,
      "metadata": {
        "id": "NJB_IR7Pd2O-"
      },
      "outputs": [],
      "source": [
        "data_path_test = BASE_PATH + 'data/20news-bydate-test/'"
      ]
    },
    {
      "cell_type": "code",
      "execution_count": 12,
      "metadata": {
        "id": "n6itF-kndrYJ"
      },
      "outputs": [],
      "source": [
        "test_docs, test_labels = read_documents_20ng(data_path_test)"
      ]
    },
    {
      "cell_type": "code",
      "execution_count": 13,
      "metadata": {
        "colab": {
          "base_uri": "https://localhost:8080/"
        },
        "id": "sN9d4NYiy48g",
        "outputId": "1ca12bfa-95e4-4788-e0cd-33d829f861b8"
      },
      "outputs": [
        {
          "output_type": "stream",
          "name": "stdout",
          "text": [
            "Testing data: 1151\n",
            "Number of categories: 3\n",
            "Categories: ['comp.graphics' 'rec.motorcycles' 'talk.politics.guns']\n"
          ]
        }
      ],
      "source": [
        "print('Testing data:', len(test_docs))\n",
        "print('Number of categories:', len(np.unique(test_labels)))\n",
        "print('Categories:', np.unique(test_labels))"
      ]
    },
    {
      "cell_type": "markdown",
      "metadata": {
        "id": "B7UpZYWsihaB"
      },
      "source": [
        "### Finding frequency of each category"
      ]
    },
    {
      "cell_type": "code",
      "execution_count": 14,
      "metadata": {
        "colab": {
          "base_uri": "https://localhost:8080/"
        },
        "id": "YQ8PxqNIihaC",
        "outputId": "7156e04e-f917-4929-82c4-7d2b63204b35"
      },
      "outputs": [
        {
          "output_type": "stream",
          "name": "stdout",
          "text": [
            "['comp.graphics' 'rec.motorcycles' 'talk.politics.guns']\n",
            "[389 398 364]\n",
            "[('comp.graphics', 389), ('rec.motorcycles', 398), ('talk.politics.guns', 364)]\n"
          ]
        }
      ],
      "source": [
        "test_targets, test_frequency = np.unique(test_labels, return_counts=True)\n",
        "print(test_targets)\n",
        "print(test_frequency)\n",
        "print(list(zip(test_targets, test_frequency)))"
      ]
    },
    {
      "cell_type": "markdown",
      "metadata": {
        "id": "vd08cjslihaD"
      },
      "source": [
        "### Class distribution\n"
      ]
    },
    {
      "cell_type": "code",
      "execution_count": 15,
      "metadata": {
        "colab": {
          "base_uri": "https://localhost:8080/",
          "height": 468
        },
        "id": "791xkdYxihaD",
        "outputId": "24307bae-d8ad-4e54-8b93-5e056a394022"
      },
      "outputs": [
        {
          "output_type": "display_data",
          "data": {
            "text/plain": [
              "<Figure size 800x400 with 1 Axes>"
            ],
            "image/png": "[encoded data removed]"
          },
          "metadata": {}
        }
      ],
      "source": [
        "fig=plt.figure(figsize=(10, 5), dpi= 80, facecolor='w', edgecolor='k')\n",
        "plt.bar(test_targets, test_frequency)\n",
        "plt.xticks(rotation=90)\n",
        "plt.title(f'Class distribution of {len(test_targets)} Newsgroups Testing Data')\n",
        "plt.xlabel('News Group')\n",
        "plt.ylabel('Frequency')\n",
        "plt.show()"
      ]
    },
    {
      "cell_type": "markdown",
      "metadata": {
        "id": "c0cAeBowGUVP"
      },
      "source": [
        "# Pre-process data"
      ]
    },
    {
      "cell_type": "markdown",
      "metadata": {
        "id": "HPPLNptNjXey"
      },
      "source": [
        "## Creating STOP WORDS"
      ]
    },
    {
      "cell_type": "markdown",
      "metadata": {
        "id": "iXwFkr55jjAp"
      },
      "source": [
        "Intial stop words from `sklearn.feature_extraction._stop_words`"
      ]
    },
    {
      "cell_type": "code",
      "source": [
        "from sklearn.feature_extraction._stop_words import ENGLISH_STOP_WORDS # Total 318 words"
      ],
      "metadata": {
        "id": "IsERnc6XaSG8"
      },
      "execution_count": 16,
      "outputs": []
    },
    {
      "cell_type": "code",
      "source": [
        "stopWords=list(ENGLISH_STOP_WORDS)"
      ],
      "metadata": {
        "id": "edk3qpv3ahHb"
      },
      "execution_count": 17,
      "outputs": []
    },
    {
      "cell_type": "markdown",
      "source": [
        "We can also use stopwords from `ntlk`"
      ],
      "metadata": {
        "id": "riCKe-o0cPrh"
      }
    },
    {
      "cell_type": "code",
      "source": [
        "# from nltk.corpus import stopwords\n",
        "# nltk.download('stopwords')\n",
        "# stopWords=stopwords.words('english') # Total 179 words"
      ],
      "metadata": {
        "id": "m8NLDP1wb9Jc"
      },
      "execution_count": 18,
      "outputs": []
    },
    {
      "cell_type": "markdown",
      "metadata": {
        "id": "rnD8mkq2bT8i"
      },
      "source": [
        "Adding some more common stop words throughout all docs which doesn't play no part in classification"
      ]
    },
    {
      "cell_type": "code",
      "execution_count": 19,
      "metadata": {
        "id": "QC1Cl01pRPgA"
      },
      "outputs": [],
      "source": [
        "stopWords+=['subject','from', 'date', 'reply-to', 'newsgroups', 'message-id', 'lines', 'path', 'organization', \n",
        "            'would', 'writes', 'references', 'article', 'sender', 'nntp-posting-host', 'people', \n",
        "            'university', 'think', 'xref', 'cantaloupe.srv.cs.cmu.edu', 'could', 'distribution', 'first', \n",
        "            'anyone', 'really', 'since', 'believe', 'still', \n",
        "            \"max>'ax>'ax>'ax>'ax>'ax>'ax>'ax>'ax>'ax>'ax>'ax>'ax>'ax>'ax>'\"]"
      ]
    },
    {
      "cell_type": "code",
      "source": [
        "stopWords = set(stopWords)"
      ],
      "metadata": {
        "id": "i7eUTJxN-yKD"
      },
      "execution_count": 20,
      "outputs": []
    },
    {
      "cell_type": "markdown",
      "metadata": {
        "id": "QyNH2U0kmhMr"
      },
      "source": [
        "## Lemmatizer\n",
        "Lemmatizer minimizes text ambiguity. Example words like bicycle or bicycles are converted to base word bicycle. Basically, it will convert all words having the same meaning but different representation to their base form. It reduces the word density in the given text and helps in preparing the accurate features for training machine. Cleaner the data, the more intelligent and accurate your machine learning model, will be. NLTK Lemmatizer will also saves memory as well as computational cost."
      ]
    },
    {
      "cell_type": "code",
      "execution_count": 21,
      "metadata": {
        "id": "W-a-VikmmuZt"
      },
      "outputs": [],
      "source": [
        "# Initialization\n",
        "lemmatizer = WordNetLemmatizer()\n",
        "\n",
        "# Creating a POS tag map\n",
        "tag_map = defaultdict(lambda : wn.NOUN)\n",
        "tag_map['J'] = wn.ADJ\n",
        "tag_map['V'] = wn.VERB\n",
        "tag_map['R'] = wn.ADV\n",
        "\n",
        "def convertWordIntoLemmatizeWord(words):\n",
        "  return [lemmatizer.lemmatize(word, tag_map[tag[0]]) for word, tag in pos_tag(words)]"
      ]
    },
    {
      "cell_type": "markdown",
      "metadata": {
        "id": "hpN2BUKBkhcO"
      },
      "source": [
        "## Defining a pre-process function\n",
        "\n",
        "* Remove numbers. ✅\n",
        "* Convert word into lowercase word. ✅\n",
        "* Remove all stop words. ✅\n",
        "* Remove all punctuations. ✅\n",
        "* Some white spaces may be added to the list of words, due to the translate function & nature of our documents. Remove them as well. ✅\n",
        "* Remove just-numeric strings. ✅\n",
        "* Lemmatize. ✅\n",
        "* Remove words with only 2 characters or less. [Low frequency] ✅\n",
        "* Remove words with more than 12 characters. [High frequency] ✅\n"
      ]
    },
    {
      "cell_type": "code",
      "execution_count": 22,
      "metadata": {
        "id": "DlLtEGJpdfX0"
      },
      "outputs": [],
      "source": [
        "def preprocess(words):\n",
        "  #First, remove numbers\n",
        "  words = [re.sub(r\"\\d+\", \"\", word) for word in words]\n",
        "  #Normalize the cases of our words\n",
        "  words = [word.lower() for word in words]\n",
        "  #Remove all punctuations\n",
        "  table = str.maketrans('', '', punctuation)\n",
        "  words = [word.translate(table) for word in words]\n",
        "  #Some white spaces may be added to the list of words, due to the translate function & nature of our documents. We've to remove them.\n",
        "  words = [word for word in words if word]\n",
        "  #Remove just-numeric strings\n",
        "  words = [word for word in words if not word.isdigit()]\n",
        "  #Lemmatize\n",
        "  words = convertWordIntoLemmatizeWord(words)\n",
        "  #Remove all stop words\n",
        "  words = [word for word in words if word not in stopWords]\n",
        "  #Remove words with less than 3 characters and more than 12 characters\n",
        "  words = [word for word in words if len(word) > 2 and len(word) <= 12]\n",
        "  return words"
      ]
    },
    {
      "cell_type": "markdown",
      "metadata": {
        "id": "sgTcA5IutUOn"
      },
      "source": [
        "## Creating pre-process documents function"
      ]
    },
    {
      "cell_type": "code",
      "execution_count": 23,
      "metadata": {
        "id": "qYpwjcBztgOX"
      },
      "outputs": [],
      "source": [
        "def preprocess_documents(docs):\n",
        "  preprocessed_docs = []\n",
        "  for doc in docs:\n",
        "    words = word_tokenize(doc)\n",
        "    words = preprocess(words)\n",
        "    preprocessed_docs.append(\" \".join(words))\n",
        "  return preprocessed_docs"
      ]
    },
    {
      "cell_type": "markdown",
      "metadata": {
        "id": "HBO4ak08m0ge"
      },
      "source": [
        "## Preprocess training data"
      ]
    },
    {
      "cell_type": "markdown",
      "metadata": {
        "id": "5yD_U5hPxI6k"
      },
      "source": [
        "Raw data:"
      ]
    },
    {
      "cell_type": "code",
      "execution_count": 24,
      "metadata": {
        "colab": {
          "base_uri": "https://localhost:8080/",
          "height": 107
        },
        "id": "Xnswc-aGnR60",
        "outputId": "c3b41eed-eebc-461d-eee3-ee853acdc0cc"
      },
      "outputs": [
        {
          "output_type": "execute_result",
          "data": {
            "text/plain": [
              "\"From: joth@ersys.edmonton.ab.ca (Joe Tham)\\nSubject: Where can I find SIPP?\\nOrganization: Edmonton Remote Systems #2, Edmonton, AB, Canada\\nLines: 11\\n\\n        I recently got a file describing a library of rendering routines \\ncalled SIPP (SImple Polygon Processor).  Could anyone tell me where I can \\nFTP the source code and which is the newest version around?\\n        Also, I've never used Renderman so I was wondering if Renderman \\nis like SIPP?  ie. a library of rendering routines which one uses to make \\na program that creates the image...\\n\\n                                        Thanks,  Joe Tham\\n\\n--\\nJoe Tham              joth@ersys.edmonton.ab.ca \\n\""
            ],
            "application/vnd.google.colaboratory.intrinsic+json": {
              "type": "string"
            }
          },
          "metadata": {},
          "execution_count": 24
        }
      ],
      "source": [
        "train_docs[0]"
      ]
    },
    {
      "cell_type": "markdown",
      "metadata": {
        "id": "9JePJ4SRxc2i"
      },
      "source": [
        "Pre-processing documents:"
      ]
    },
    {
      "cell_type": "code",
      "execution_count": 25,
      "metadata": {
        "id": "1FVJpy-Fm1H5"
      },
      "outputs": [],
      "source": [
        "preprocessed_train_docs = preprocess_documents(train_docs)"
      ]
    },
    {
      "cell_type": "markdown",
      "metadata": {
        "id": "xQIH_UvwxmZf"
      },
      "source": [
        "Pre-processed data:"
      ]
    },
    {
      "cell_type": "code",
      "execution_count": 26,
      "metadata": {
        "colab": {
          "base_uri": "https://localhost:8080/",
          "height": 53
        },
        "id": "hGjHy9mOWCmk",
        "outputId": "91bc5a56-93cf-4dbe-a521-3155dae84d1a"
      },
      "outputs": [
        {
          "output_type": "execute_result",
          "data": {
            "text/plain": [
              "'joth joe tham sipp edmonton remote edmonton canada line recently file library render routine sipp simple polygon processor tell ftp source code new version use renderman wonder renderman like sipp library render routine use make program create image thanks joe tham joe tham joth'"
            ],
            "application/vnd.google.colaboratory.intrinsic+json": {
              "type": "string"
            }
          },
          "metadata": {},
          "execution_count": 26
        }
      ],
      "source": [
        "preprocessed_train_docs[0]"
      ]
    },
    {
      "cell_type": "markdown",
      "metadata": {
        "id": "tDssF9kM5Lad"
      },
      "source": [
        "Preparing DataFrame:"
      ]
    },
    {
      "cell_type": "code",
      "execution_count": 27,
      "metadata": {
        "colab": {
          "base_uri": "https://localhost:8080/",
          "height": 206
        },
        "id": "km-8cmcF5MBr",
        "outputId": "f20877e2-232c-4e6e-b6fe-19394146284b"
      },
      "outputs": [
        {
          "output_type": "execute_result",
          "data": {
            "text/plain": [
              "                                                data         target\n",
              "0  joth joe tham sipp edmonton remote edmonton ca...  comp.graphics\n",
              "1  ednobles edward noble window imagine oak ridge...  comp.graphics\n",
              "2  peter van der veen font pov line wageningen ag...  comp.graphics\n",
              "3  mtoivakk abofi martti toivakka pap compile ver...  comp.graphics\n",
              "4  rubery dan rubery graphic format tasc line wri...  comp.graphics"
            ],
            "text/html": [
              "\n",
              "  <div id=\"df-b246c42a-d913-4ab5-b02d-b26914e07b81\">\n",
              "    <div class=\"colab-df-container\">\n",
              "      <div>\n",
              "<style scoped>\n",
              "    .dataframe tbody tr th:only-of-type {\n",
              "        vertical-align: middle;\n",
              "    }\n",
              "\n",
              "    .dataframe tbody tr th {\n",
              "        vertical-align: top;\n",
              "    }\n",
              "\n",
              "    .dataframe thead th {\n",
              "        text-align: right;\n",
              "    }\n",
              "</style>\n",
              "<table border=\"1\" class=\"dataframe\">\n",
              "  <thead>\n",
              "    <tr style=\"text-align: right;\">\n",
              "      <th></th>\n",
              "      <th>data</th>\n",
              "      <th>target</th>\n",
              "    </tr>\n",
              "  </thead>\n",
              "  <tbody>\n",
              "    <tr>\n",
              "      <th>0</th>\n",
              "      <td>joth joe tham sipp edmonton remote edmonton ca...</td>\n",
              "      <td>comp.graphics</td>\n",
              "    </tr>\n",
              "    <tr>\n",
              "      <th>1</th>\n",
              "      <td>ednobles edward noble window imagine oak ridge...</td>\n",
              "      <td>comp.graphics</td>\n",
              "    </tr>\n",
              "    <tr>\n",
              "      <th>2</th>\n",
              "      <td>peter van der veen font pov line wageningen ag...</td>\n",
              "      <td>comp.graphics</td>\n",
              "    </tr>\n",
              "    <tr>\n",
              "      <th>3</th>\n",
              "      <td>mtoivakk abofi martti toivakka pap compile ver...</td>\n",
              "      <td>comp.graphics</td>\n",
              "    </tr>\n",
              "    <tr>\n",
              "      <th>4</th>\n",
              "      <td>rubery dan rubery graphic format tasc line wri...</td>\n",
              "      <td>comp.graphics</td>\n",
              "    </tr>\n",
              "  </tbody>\n",
              "</table>\n",
              "</div>\n",
              "      <button class=\"colab-df-convert\" onclick=\"convertToInteractive('df-b246c42a-d913-4ab5-b02d-b26914e07b81')\"\n",
              "              title=\"Convert this dataframe to an interactive table.\"\n",
              "              style=\"display:none;\">\n",
              "        \n",
              "  <svg xmlns=\"http://www.w3.org/2000/svg\" height=\"24px\"viewBox=\"0 0 24 24\"\n",
              "       width=\"24px\">\n",
              "    <path d=\"M0 0h24v24H0V0z\" fill=\"none\"/>\n",
              "    <path d=\"M18.56 5.44l.94 2.06.94-2.06 2.06-.94-2.06-.94-.94-2.06-.94 2.06-2.06.94zm-11 1L8.5 8.5l.94-2.06 2.06-.94-2.06-.94L8.5 2.5l-.94 2.06-2.06.94zm10 10l.94 2.06.94-2.06 2.06-.94-2.06-.94-.94-2.06-.94 2.06-2.06.94z\"/><path d=\"M17.41 7.96l-1.37-1.37c-.4-.4-.92-.59-1.43-.59-.52 0-1.04.2-1.43.59L10.3 9.45l-7.72 7.72c-.78.78-.78 2.05 0 2.83L4 21.41c.39.39.9.59 1.41.59.51 0 1.02-.2 1.41-.59l7.78-7.78 2.81-2.81c.8-.78.8-2.07 0-2.86zM5.41 20L4 18.59l7.72-7.72 1.47 1.35L5.41 20z\"/>\n",
              "  </svg>\n",
              "      </button>\n",
              "      \n",
              "  <style>\n",
              "    .colab-df-container {\n",
              "      display:flex;\n",
              "      flex-wrap:wrap;\n",
              "      gap: 12px;\n",
              "    }\n",
              "\n",
              "    .colab-df-convert {\n",
              "      background-color: #E8F0FE;\n",
              "      border: none;\n",
              "      border-radius: 50%;\n",
              "      cursor: pointer;\n",
              "      display: none;\n",
              "      fill: #1967D2;\n",
              "      height: 32px;\n",
              "      padding: 0 0 0 0;\n",
              "      width: 32px;\n",
              "    }\n",
              "\n",
              "    .colab-df-convert:hover {\n",
              "      background-color: #E2EBFA;\n",
              "      box-shadow: 0px 1px 2px rgba(60, 64, 67, 0.3), 0px 1px 3px 1px rgba(60, 64, 67, 0.15);\n",
              "      fill: #174EA6;\n",
              "    }\n",
              "\n",
              "    [theme=dark] .colab-df-convert {\n",
              "      background-color: #3B4455;\n",
              "      fill: #D2E3FC;\n",
              "    }\n",
              "\n",
              "    [theme=dark] .colab-df-convert:hover {\n",
              "      background-color: #434B5C;\n",
              "      box-shadow: 0px 1px 3px 1px rgba(0, 0, 0, 0.15);\n",
              "      filter: drop-shadow(0px 1px 2px rgba(0, 0, 0, 0.3));\n",
              "      fill: #FFFFFF;\n",
              "    }\n",
              "  </style>\n",
              "\n",
              "      <script>\n",
              "        const buttonEl =\n",
              "          document.querySelector('#df-b246c42a-d913-4ab5-b02d-b26914e07b81 button.colab-df-convert');\n",
              "        buttonEl.style.display =\n",
              "          google.colab.kernel.accessAllowed ? 'block' : 'none';\n",
              "\n",
              "        async function convertToInteractive(key) {\n",
              "          const element = document.querySelector('#df-b246c42a-d913-4ab5-b02d-b26914e07b81');\n",
              "          const dataTable =\n",
              "            await google.colab.kernel.invokeFunction('convertToInteractive',\n",
              "                                                     [key], {});\n",
              "          if (!dataTable) return;\n",
              "\n",
              "          const docLinkHtml = 'Like what you see? Visit the ' +\n",
              "            '<a target=\"_blank\" href=https://colab.research.google.com/notebooks/data_table.ipynb>data table notebook</a>'\n",
              "            + ' to learn more about interactive tables.';\n",
              "          element.innerHTML = '';\n",
              "          dataTable['output_type'] = 'display_data';\n",
              "          await google.colab.output.renderOutput(dataTable, element);\n",
              "          const docLink = document.createElement('div');\n",
              "          docLink.innerHTML = docLinkHtml;\n",
              "          element.appendChild(docLink);\n",
              "        }\n",
              "      </script>\n",
              "    </div>\n",
              "  </div>\n",
              "  "
            ]
          },
          "metadata": {},
          "execution_count": 27
        }
      ],
      "source": [
        "traing_df = pd.DataFrame({'data': preprocessed_train_docs, 'target': train_labels})\n",
        "traing_df.head()"
      ]
    },
    {
      "cell_type": "markdown",
      "metadata": {
        "id": "BulhcFiBxwIj"
      },
      "source": [
        "## Preprocess testing data"
      ]
    },
    {
      "cell_type": "markdown",
      "metadata": {
        "id": "3Usw7tOsxwIj"
      },
      "source": [
        "Raw data:"
      ]
    },
    {
      "cell_type": "code",
      "execution_count": 28,
      "metadata": {
        "colab": {
          "base_uri": "https://localhost:8080/",
          "height": 143
        },
        "id": "6Ppn83WtxwIj",
        "outputId": "baaed4e2-1176-46ab-8318-73a3eacc3641"
      },
      "outputs": [
        {
          "output_type": "execute_result",
          "data": {
            "text/plain": [
              "'From: lioness@maple.circa.ufl.edu\\nSubject: Kubota Kenai/Denali specs\\nOrganization: Center for Instructional and Research Computing Activities\\nLines: 118\\nReply-To: LIONESS@ufcc.ufl.edu\\nNNTP-Posting-Host: maple.circa.ufl.edu\\n\\n\\nOkay, I got enough replies about the Kubota Kenai/Denali systems that I\\nwill post a summary of their capabilities.  I haven\\'t actually used one\\nor seen one, so take the specs with a grain of salt.  I\\'d like to see\\nan independent review of one against, say, an SGI Indigo Extreme or\\nsomething.\\n\\nBasically, the Kenai workstations are DEC Alpha AXP based workstations that\\nrun OSF/1 ( DEC\\'s ) and will likely run Windows NT in the future.  They are\\nbinary compatible with Digital\\'s OSF/1 Alpha AXP implementation.  Denali\\nis their graphics subsystem, which is upgradable in the field by\\nsimply adding \"transformation engines\".\\n\\nThe two main Kenai machines are the 3400 Imaging and 3D Graphics Workstation\\nand the 3500 Imaging and 3D Graphics Workstation.\\n\\n\\n\\t\\t\\t3400\\t\\t\\t3500\\n\\nCPU\\t\\t\\tDEC Alpha AXP 133MHz\\tDEC Alpha AXP 150MHz\\nOn-chip cache\\t\\t8k/8k\\t\\t\\t8k/8k\\nOnboard cache\\t\\t512K\\t\\t\\t512K\\nWord Size\\t\\t64-bit\\t\\t\\t64-bit\\nMemory ( initial )\\t32-128MB\\t\\t32-256MB\\nMemory ( future )\\t512MB\\t\\t\\t1GB\\nSPECMARK89\\t\\t111\\t\\t\\t126\\nSPECINT92\\t\\t75\\t\\t\\t84\\nSPECFP92\\t\\t112\\t\\t\\t128\\n\\nGRAPHICS\\n\\nTransform Modules\\t1-6\\t\\t\\t1-6\\nFrame Buffer Modules\\t5,10,20\\t\\t\\t5,10,20\\nFrame Buffer\\t\\t1280x1024x24bit\\t\\t1280x1024x24bit\\n\\t\\t\\tdouble buffered\\t\\tdouble buffered\\nZ-buffer\\t\\t24-bit\\t\\t\\t24-bit\\nAlpha/stencil\\t\\t8-bit\\t\\t\\t8-bit\\nStereo support\\t\\tyes\\t\\t\\tyes\\nOther:\\t\\t\\t\\tboth machines will double buffer or do\\n\\t\\t\\t\\tstereo output per window.  Both have an\\n\\t\\t\\t\\tauxiliary video output that is RS-170A,\\n\\t\\t\\t\\tNTSC, and PAL\\n\\nSTORAGE\\n\\nInternal-fixed\\t\\t2 3.5\"\\t\\t\\t4 3.5\"\\nInternal-removable\\t1 5.25\"\\t\\t\\t2 5.25\"\\nMax capacity\\t\\t9.5GB\\t\\t\\t11.6 GB\\n\\nIO\\n\\nBoth have TurboChannel 100MB/sec, SCSI-2, Ethernet, and FDDI\\n\\nAPPLICATION PROGRAMMING INTERFACES\\n\\nBoth have libraries for Xlib, Motif, MIT PEXlib, DEC-PEXlib DEC-PHIGS, and GL\\n\\nOkay, now the real stuff.  The Kenai stations work with a graphics architecture\\nknown as Denali.  The Denali comes in three models, the E, P, and V.  They\\nuse a DECchip 21064 superscalar RISC processor at 150MHz.  Their\\ncapabilities are as follows:\\n\\n\\t\\t\\tE\\t\\tP\\t\\tV\\n\\n2D Vectors\\t\\t800-200K\\t2000-3800K\\t4000-4800K\\n3D Vectors #1\\t\\t350-1100K\\t1100-1800K\\t1800-2100K\\n3D Vectors #2\\t\\t300-1000K\\t1000-1600K\\t1600-1900K\\n3D Vectors #3\\t\\t300-500K\\t800-1000K\\t1300-1400K\\n3D Triangles, #4\\t200-500K\\t600-1000K\\t1000-1200K\\n3D Triangles, #5\\t100-200K\\t300-400K\\t500-600K\\n\\n#1: 10 pixel, flat shaded, connected\\n#2: 10 pixel, Gouraud shaded, connected\\n#3: 10 pixel, 2-pixel wide, anti-aliased, connected\\n#4: 50-pixel, Gouraud shaded, Z-buffered, strip\\n#5: 50-pixel, texture mapped, persp., point sampled\\n\\nIMAGE PROCESSING\\n\\nCine loop - 8-bit\\t15-36Mp/s\\t37-58 Mp/s\\t60-68 Mp/s\\nCine loop - 16-bit\\t14 Mp/s\\t\\t25 Mp/s\\t\\t38 Mp/s\\nCine loop - 24-bit\\t12-21 Mp/s\\t21 Mp/s\\t\\t21 Mp/s\\nContrast stretching #1\\t14 Mp/s\\t\\t25 Mp/s\\t\\t20 Mp/s\\nBilinear zoom\\t\\t6 Mp/s\\t\\t11 Mp/s\\t\\t20 Mp/s\\nTrilinear interp#2\\t--\\t\\t6 Mvoxels/s\\t11 Mvoxels/s\\n\\n#1: Lookup table -- 12-,16-bit to 8\\n#2: Trilinear interpolation, 8-bit voxels\\n\\nCONFIGURATIONS\\nFrame Buffer Modules\\t5\\t\\t10\\t\\t20\\nTransform Engine Mod.\\t1-3\\t\\t3-5\\t\\t5-6\\n\\n\\nAs you can see, these are pretty powerful workstations, and the best part\\nis the pricing.  I would recommend that you call Kubota for more information.\\nTheir number is 408-727-8100.  I\\'m sure they\\'ll send you an information you\\nmay want.  Oh, some prices:\\n\\nLow-end\\n\\nKenai 3400, E Series w/ 1 TEM and 5 FBM --- 27,795 dollars U.S.\\nKenai 3500, E Series w/ 1 TEM and 5 FBM --- 45,345 dollars U.S.\\n\\nHigh-end\\n\\nKenai 3400, V Series w/ 6 TEM and 20 FBM -- 61,795 dollars U.S.\\nKenai 3500, V Series w/ 6 TEM and 20 FBM -- 79,345 dollars U.S.\\n\\nIf someone could post a relative comparision with an Indigo Extreme or\\nsomething I would appreciate it.\\n\\nHope this helps someone out there,\\n\\nBrian\\n\\nPS I am not affiliated with Kubota in any way.  Hell, I thought they made\\ntractors or something. :-)\\n'"
            ],
            "application/vnd.google.colaboratory.intrinsic+json": {
              "type": "string"
            }
          },
          "metadata": {},
          "execution_count": 28
        }
      ],
      "source": [
        "test_docs[0]"
      ]
    },
    {
      "cell_type": "markdown",
      "metadata": {
        "id": "UNFygopbxwIk"
      },
      "source": [
        "Pre-processing documents:"
      ]
    },
    {
      "cell_type": "code",
      "execution_count": 29,
      "metadata": {
        "id": "Gl52PQmmxwIk"
      },
      "outputs": [],
      "source": [
        "preprocessed_test_docs = preprocess_documents(test_docs)"
      ]
    },
    {
      "cell_type": "markdown",
      "metadata": {
        "id": "FbfPoiTHxwIk"
      },
      "source": [
        "Pre-processed data:"
      ]
    },
    {
      "cell_type": "code",
      "execution_count": 30,
      "metadata": {
        "colab": {
          "base_uri": "https://localhost:8080/",
          "height": 143
        },
        "id": "57g4X7ZFxwIk",
        "outputId": "6f60d5a5-e6bb-4a31-c826-df1191edd05e"
      },
      "outputs": [
        {
          "output_type": "execute_result",
          "data": {
            "text/plain": [
              "'lioness kubota kenaidenali specs center research computing activity line replyto lioness ufccufledu okay reply kubota kenaidenali post summary capability actually use spec grain salt like independent review say sgi indigo extreme basically kenai workstation dec alpha axp base workstation run osf dec likely run window future binary compatible digital osf alpha axp denali graphic subsystem upgradable field simply add engines main kenai machine imaging graphic workstation imaging graphic workstation cpu dec alpha axp mhz dec alpha axp mhz onchip cache onboard cache word size bit bit memory initial memory future specmark specint specfp graphic transform module frame buffer module frame buff xxbit xxbit double buffer double buffer zbuffer bit bit alphastencil bit bit stereo support yes yes machine double buffer stereo output window auxiliary video output rsa ntsc pal storage max capacity turbochannel mbsec scsi ethernet fddi application programming interface library xlib motif mit pexlib decpexlib decphigs okay real stuff kenai station work graphics architecture know denali denali come model use decchip superscalar risc processor mhz capability follow vector vector vector vector triangle triangle pixel flat shade connect pixel gouraud shade connect pixel pixel wide antialiased connected pixel gouraud shade zbuffered strip pixel texture map persp point sample image process cine loop bit mps cine loop bit mps cine loop bit mps contrast stretch bilinear zoom mps trilinear interp mvoxelss mvoxelss lookup table bit trilinear bit voxels frame buffer module transform engine mod pretty powerful workstation best pricing recommend kubota information number sure send information want price lowend kenai series tem fbm dollar kenai series tem fbm dollar highend kenai series tem fbm dollar kenai series tem fbm dollar post relative comparision indigo extreme appreciate hope help brian affiliate kubota way hell make tractor'"
            ],
            "application/vnd.google.colaboratory.intrinsic+json": {
              "type": "string"
            }
          },
          "metadata": {},
          "execution_count": 30
        }
      ],
      "source": [
        "preprocessed_test_docs[0]"
      ]
    },
    {
      "cell_type": "markdown",
      "metadata": {
        "id": "jrZYNGuh6pjw"
      },
      "source": [
        "Preparing DataFrame:"
      ]
    },
    {
      "cell_type": "code",
      "execution_count": 31,
      "metadata": {
        "colab": {
          "base_uri": "https://localhost:8080/",
          "height": 206
        },
        "id": "0wzN5zJGxwIk",
        "outputId": "e25cca94-efa5-434c-ecb1-e94761fdf751"
      },
      "outputs": [
        {
          "output_type": "execute_result",
          "data": {
            "text/plain": [
              "                                                data         target\n",
              "0  lioness kubota kenaidenali specs center resear...  comp.graphics\n",
              "1  cummins charles illustrator autotrace poorly a...  comp.graphics\n",
              "2  dtm efdlthse tomas moeller want scott leatham ...  comp.graphics\n",
              "3  malek pititechacjp zidouri abdelmalek tiff sig...  comp.graphics\n",
              "4  kwansik kim kkim csindianaedu faq indiana comp...  comp.graphics"
            ],
            "text/html": [
              "\n",
              "  <div id=\"df-e9ae5239-cfca-4b2c-b926-79840ea84553\">\n",
              "    <div class=\"colab-df-container\">\n",
              "      <div>\n",
              "<style scoped>\n",
              "    .dataframe tbody tr th:only-of-type {\n",
              "        vertical-align: middle;\n",
              "    }\n",
              "\n",
              "    .dataframe tbody tr th {\n",
              "        vertical-align: top;\n",
              "    }\n",
              "\n",
              "    .dataframe thead th {\n",
              "        text-align: right;\n",
              "    }\n",
              "</style>\n",
              "<table border=\"1\" class=\"dataframe\">\n",
              "  <thead>\n",
              "    <tr style=\"text-align: right;\">\n",
              "      <th></th>\n",
              "      <th>data</th>\n",
              "      <th>target</th>\n",
              "    </tr>\n",
              "  </thead>\n",
              "  <tbody>\n",
              "    <tr>\n",
              "      <th>0</th>\n",
              "      <td>lioness kubota kenaidenali specs center resear...</td>\n",
              "      <td>comp.graphics</td>\n",
              "    </tr>\n",
              "    <tr>\n",
              "      <th>1</th>\n",
              "      <td>cummins charles illustrator autotrace poorly a...</td>\n",
              "      <td>comp.graphics</td>\n",
              "    </tr>\n",
              "    <tr>\n",
              "      <th>2</th>\n",
              "      <td>dtm efdlthse tomas moeller want scott leatham ...</td>\n",
              "      <td>comp.graphics</td>\n",
              "    </tr>\n",
              "    <tr>\n",
              "      <th>3</th>\n",
              "      <td>malek pititechacjp zidouri abdelmalek tiff sig...</td>\n",
              "      <td>comp.graphics</td>\n",
              "    </tr>\n",
              "    <tr>\n",
              "      <th>4</th>\n",
              "      <td>kwansik kim kkim csindianaedu faq indiana comp...</td>\n",
              "      <td>comp.graphics</td>\n",
              "    </tr>\n",
              "  </tbody>\n",
              "</table>\n",
              "</div>\n",
              "      <button class=\"colab-df-convert\" onclick=\"convertToInteractive('df-e9ae5239-cfca-4b2c-b926-79840ea84553')\"\n",
              "              title=\"Convert this dataframe to an interactive table.\"\n",
              "              style=\"display:none;\">\n",
              "        \n",
              "  <svg xmlns=\"http://www.w3.org/2000/svg\" height=\"24px\"viewBox=\"0 0 24 24\"\n",
              "       width=\"24px\">\n",
              "    <path d=\"M0 0h24v24H0V0z\" fill=\"none\"/>\n",
              "    <path d=\"M18.56 5.44l.94 2.06.94-2.06 2.06-.94-2.06-.94-.94-2.06-.94 2.06-2.06.94zm-11 1L8.5 8.5l.94-2.06 2.06-.94-2.06-.94L8.5 2.5l-.94 2.06-2.06.94zm10 10l.94 2.06.94-2.06 2.06-.94-2.06-.94-.94-2.06-.94 2.06-2.06.94z\"/><path d=\"M17.41 7.96l-1.37-1.37c-.4-.4-.92-.59-1.43-.59-.52 0-1.04.2-1.43.59L10.3 9.45l-7.72 7.72c-.78.78-.78 2.05 0 2.83L4 21.41c.39.39.9.59 1.41.59.51 0 1.02-.2 1.41-.59l7.78-7.78 2.81-2.81c.8-.78.8-2.07 0-2.86zM5.41 20L4 18.59l7.72-7.72 1.47 1.35L5.41 20z\"/>\n",
              "  </svg>\n",
              "      </button>\n",
              "      \n",
              "  <style>\n",
              "    .colab-df-container {\n",
              "      display:flex;\n",
              "      flex-wrap:wrap;\n",
              "      gap: 12px;\n",
              "    }\n",
              "\n",
              "    .colab-df-convert {\n",
              "      background-color: #E8F0FE;\n",
              "      border: none;\n",
              "      border-radius: 50%;\n",
              "      cursor: pointer;\n",
              "      display: none;\n",
              "      fill: #1967D2;\n",
              "      height: 32px;\n",
              "      padding: 0 0 0 0;\n",
              "      width: 32px;\n",
              "    }\n",
              "\n",
              "    .colab-df-convert:hover {\n",
              "      background-color: #E2EBFA;\n",
              "      box-shadow: 0px 1px 2px rgba(60, 64, 67, 0.3), 0px 1px 3px 1px rgba(60, 64, 67, 0.15);\n",
              "      fill: #174EA6;\n",
              "    }\n",
              "\n",
              "    [theme=dark] .colab-df-convert {\n",
              "      background-color: #3B4455;\n",
              "      fill: #D2E3FC;\n",
              "    }\n",
              "\n",
              "    [theme=dark] .colab-df-convert:hover {\n",
              "      background-color: #434B5C;\n",
              "      box-shadow: 0px 1px 3px 1px rgba(0, 0, 0, 0.15);\n",
              "      filter: drop-shadow(0px 1px 2px rgba(0, 0, 0, 0.3));\n",
              "      fill: #FFFFFF;\n",
              "    }\n",
              "  </style>\n",
              "\n",
              "      <script>\n",
              "        const buttonEl =\n",
              "          document.querySelector('#df-e9ae5239-cfca-4b2c-b926-79840ea84553 button.colab-df-convert');\n",
              "        buttonEl.style.display =\n",
              "          google.colab.kernel.accessAllowed ? 'block' : 'none';\n",
              "\n",
              "        async function convertToInteractive(key) {\n",
              "          const element = document.querySelector('#df-e9ae5239-cfca-4b2c-b926-79840ea84553');\n",
              "          const dataTable =\n",
              "            await google.colab.kernel.invokeFunction('convertToInteractive',\n",
              "                                                     [key], {});\n",
              "          if (!dataTable) return;\n",
              "\n",
              "          const docLinkHtml = 'Like what you see? Visit the ' +\n",
              "            '<a target=\"_blank\" href=https://colab.research.google.com/notebooks/data_table.ipynb>data table notebook</a>'\n",
              "            + ' to learn more about interactive tables.';\n",
              "          element.innerHTML = '';\n",
              "          dataTable['output_type'] = 'display_data';\n",
              "          await google.colab.output.renderOutput(dataTable, element);\n",
              "          const docLink = document.createElement('div');\n",
              "          docLink.innerHTML = docLinkHtml;\n",
              "          element.appendChild(docLink);\n",
              "        }\n",
              "      </script>\n",
              "    </div>\n",
              "  </div>\n",
              "  "
            ]
          },
          "metadata": {},
          "execution_count": 31
        }
      ],
      "source": [
        "testing_df = pd.DataFrame({'data': preprocessed_test_docs, 'target': test_labels})\n",
        "testing_df.head()"
      ]
    },
    {
      "cell_type": "markdown",
      "metadata": {
        "id": "9iW6IW_VNDJw"
      },
      "source": [
        "# TF-IDF Vectorizer"
      ]
    },
    {
      "cell_type": "code",
      "execution_count": 32,
      "metadata": {
        "id": "C1mjSiPU6xcQ"
      },
      "outputs": [],
      "source": [
        "from sklearn.feature_extraction.text import TfidfVectorizer"
      ]
    },
    {
      "cell_type": "markdown",
      "source": [
        "We next convert our corpus into tf-idf vectors."
      ],
      "metadata": {
        "id": "tCr8T0K6hac7"
      }
    },
    {
      "cell_type": "code",
      "execution_count": 33,
      "metadata": {
        "id": "bo7_0N8GNNJq"
      },
      "outputs": [],
      "source": [
        "tfidfV = TfidfVectorizer() \n",
        "# tfidfV = TfidfVectorizer(min_df=2) # We remove terms with very low document frequency (many of them are numbers or misspells)."
      ]
    },
    {
      "cell_type": "markdown",
      "metadata": {
        "id": "ZQHayvSBOqjt"
      },
      "source": [
        "`fit_transform` learns the vocab and one-hot encodes "
      ]
    },
    {
      "cell_type": "code",
      "execution_count": 34,
      "metadata": {
        "id": "n99faiacOfLe"
      },
      "outputs": [],
      "source": [
        "X_train_tfidfV = tfidfV.fit_transform(traing_df.data)"
      ]
    },
    {
      "cell_type": "code",
      "execution_count": 35,
      "metadata": {
        "colab": {
          "base_uri": "https://localhost:8080/"
        },
        "id": "zYty2l49PwSr",
        "outputId": "43e264d0-d394-4d13-a8ba-fccb2dd259b5"
      },
      "outputs": [
        {
          "output_type": "stream",
          "name": "stdout",
          "text": [
            "(1728, 22093)\n"
          ]
        }
      ],
      "source": [
        "print(X_train_tfidfV.shape)"
      ]
    },
    {
      "cell_type": "markdown",
      "metadata": {
        "id": "pNGiKkZlO2Sj"
      },
      "source": [
        "`transform` uses the same vocab and one-hot encodes"
      ]
    },
    {
      "cell_type": "code",
      "execution_count": 36,
      "metadata": {
        "id": "hQ8HMhOZOxQA"
      },
      "outputs": [],
      "source": [
        "X_test_tfidfV = tfidfV.transform(testing_df.data)"
      ]
    },
    {
      "cell_type": "code",
      "execution_count": 37,
      "metadata": {
        "colab": {
          "base_uri": "https://localhost:8080/"
        },
        "id": "d_nUaOQGOyfV",
        "outputId": "ba6b6e93-b9c7-4703-cf0e-1e2aa7672ab4"
      },
      "outputs": [
        {
          "output_type": "stream",
          "name": "stdout",
          "text": [
            "(1151, 22093)\n"
          ]
        }
      ],
      "source": [
        "print(X_test_tfidfV.shape)"
      ]
    },
    {
      "cell_type": "code",
      "execution_count": 38,
      "metadata": {
        "colab": {
          "base_uri": "https://localhost:8080/",
          "height": 236
        },
        "id": "wPr1SFHGPyl7",
        "outputId": "9ccd3482-8166-443d-8fd8-032dc824a56f"
      },
      "outputs": [
        {
          "output_type": "execute_result",
          "data": {
            "text/plain": [
              "   aaa  aaaa  aaah  aad  aaefu  aaffff  aafffff  aalborg  aangeboden  \\\n",
              "0  0.0   0.0   0.0  0.0    0.0     0.0      0.0      0.0         0.0   \n",
              "1  0.0   0.0   0.0  0.0    0.0     0.0      0.0      0.0         0.0   \n",
              "2  0.0   0.0   0.0  0.0    0.0     0.0      0.0      0.0         0.0   \n",
              "3  0.0   0.0   0.0  0.0    0.0     0.0      0.0      0.0         0.0   \n",
              "4  0.0   0.0   0.0  0.0    0.0     0.0      0.0      0.0         0.0   \n",
              "\n",
              "   aaplayexe  ...  zyhszgv  zyk  zyotso  zyxel  zzc  zzgq  zzr  zzvbs  zzz  \\\n",
              "0        0.0  ...      0.0  0.0     0.0    0.0  0.0   0.0  0.0    0.0  0.0   \n",
              "1        0.0  ...      0.0  0.0     0.0    0.0  0.0   0.0  0.0    0.0  0.0   \n",
              "2        0.0  ...      0.0  0.0     0.0    0.0  0.0   0.0  0.0    0.0  0.0   \n",
              "3        0.0  ...      0.0  0.0     0.0    0.0  0.0   0.0  0.0    0.0  0.0   \n",
              "4        0.0  ...      0.0  0.0     0.0    0.0  0.0   0.0  0.0    0.0  0.0   \n",
              "\n",
              "   zzzzzz  \n",
              "0     0.0  \n",
              "1     0.0  \n",
              "2     0.0  \n",
              "3     0.0  \n",
              "4     0.0  \n",
              "\n",
              "[5 rows x 22093 columns]"
            ],
            "text/html": [
              "\n",
              "  <div id=\"df-4875858a-ee82-4a2a-9556-3b0e4b2e2298\">\n",
              "    <div class=\"colab-df-container\">\n",
              "      <div>\n",
              "<style scoped>\n",
              "    .dataframe tbody tr th:only-of-type {\n",
              "        vertical-align: middle;\n",
              "    }\n",
              "\n",
              "    .dataframe tbody tr th {\n",
              "        vertical-align: top;\n",
              "    }\n",
              "\n",
              "    .dataframe thead th {\n",
              "        text-align: right;\n",
              "    }\n",
              "</style>\n",
              "<table border=\"1\" class=\"dataframe\">\n",
              "  <thead>\n",
              "    <tr style=\"text-align: right;\">\n",
              "      <th></th>\n",
              "      <th>aaa</th>\n",
              "      <th>aaaa</th>\n",
              "      <th>aaah</th>\n",
              "      <th>aad</th>\n",
              "      <th>aaefu</th>\n",
              "      <th>aaffff</th>\n",
              "      <th>aafffff</th>\n",
              "      <th>aalborg</th>\n",
              "      <th>aangeboden</th>\n",
              "      <th>aaplayexe</th>\n",
              "      <th>...</th>\n",
              "      <th>zyhszgv</th>\n",
              "      <th>zyk</th>\n",
              "      <th>zyotso</th>\n",
              "      <th>zyxel</th>\n",
              "      <th>zzc</th>\n",
              "      <th>zzgq</th>\n",
              "      <th>zzr</th>\n",
              "      <th>zzvbs</th>\n",
              "      <th>zzz</th>\n",
              "      <th>zzzzzz</th>\n",
              "    </tr>\n",
              "  </thead>\n",
              "  <tbody>\n",
              "    <tr>\n",
              "      <th>0</th>\n",
              "      <td>0.0</td>\n",
              "      <td>0.0</td>\n",
              "      <td>0.0</td>\n",
              "      <td>0.0</td>\n",
              "      <td>0.0</td>\n",
              "      <td>0.0</td>\n",
              "      <td>0.0</td>\n",
              "      <td>0.0</td>\n",
              "      <td>0.0</td>\n",
              "      <td>0.0</td>\n",
              "      <td>...</td>\n",
              "      <td>0.0</td>\n",
              "      <td>0.0</td>\n",
              "      <td>0.0</td>\n",
              "      <td>0.0</td>\n",
              "      <td>0.0</td>\n",
              "      <td>0.0</td>\n",
              "      <td>0.0</td>\n",
              "      <td>0.0</td>\n",
              "      <td>0.0</td>\n",
              "      <td>0.0</td>\n",
              "    </tr>\n",
              "    <tr>\n",
              "      <th>1</th>\n",
              "      <td>0.0</td>\n",
              "      <td>0.0</td>\n",
              "      <td>0.0</td>\n",
              "      <td>0.0</td>\n",
              "      <td>0.0</td>\n",
              "      <td>0.0</td>\n",
              "      <td>0.0</td>\n",
              "      <td>0.0</td>\n",
              "      <td>0.0</td>\n",
              "      <td>0.0</td>\n",
              "      <td>...</td>\n",
              "      <td>0.0</td>\n",
              "      <td>0.0</td>\n",
              "      <td>0.0</td>\n",
              "      <td>0.0</td>\n",
              "      <td>0.0</td>\n",
              "      <td>0.0</td>\n",
              "      <td>0.0</td>\n",
              "      <td>0.0</td>\n",
              "      <td>0.0</td>\n",
              "      <td>0.0</td>\n",
              "    </tr>\n",
              "    <tr>\n",
              "      <th>2</th>\n",
              "      <td>0.0</td>\n",
              "      <td>0.0</td>\n",
              "      <td>0.0</td>\n",
              "      <td>0.0</td>\n",
              "      <td>0.0</td>\n",
              "      <td>0.0</td>\n",
              "      <td>0.0</td>\n",
              "      <td>0.0</td>\n",
              "      <td>0.0</td>\n",
              "      <td>0.0</td>\n",
              "      <td>...</td>\n",
              "      <td>0.0</td>\n",
              "      <td>0.0</td>\n",
              "      <td>0.0</td>\n",
              "      <td>0.0</td>\n",
              "      <td>0.0</td>\n",
              "      <td>0.0</td>\n",
              "      <td>0.0</td>\n",
              "      <td>0.0</td>\n",
              "      <td>0.0</td>\n",
              "      <td>0.0</td>\n",
              "    </tr>\n",
              "    <tr>\n",
              "      <th>3</th>\n",
              "      <td>0.0</td>\n",
              "      <td>0.0</td>\n",
              "      <td>0.0</td>\n",
              "      <td>0.0</td>\n",
              "      <td>0.0</td>\n",
              "      <td>0.0</td>\n",
              "      <td>0.0</td>\n",
              "      <td>0.0</td>\n",
              "      <td>0.0</td>\n",
              "      <td>0.0</td>\n",
              "      <td>...</td>\n",
              "      <td>0.0</td>\n",
              "      <td>0.0</td>\n",
              "      <td>0.0</td>\n",
              "      <td>0.0</td>\n",
              "      <td>0.0</td>\n",
              "      <td>0.0</td>\n",
              "      <td>0.0</td>\n",
              "      <td>0.0</td>\n",
              "      <td>0.0</td>\n",
              "      <td>0.0</td>\n",
              "    </tr>\n",
              "    <tr>\n",
              "      <th>4</th>\n",
              "      <td>0.0</td>\n",
              "      <td>0.0</td>\n",
              "      <td>0.0</td>\n",
              "      <td>0.0</td>\n",
              "      <td>0.0</td>\n",
              "      <td>0.0</td>\n",
              "      <td>0.0</td>\n",
              "      <td>0.0</td>\n",
              "      <td>0.0</td>\n",
              "      <td>0.0</td>\n",
              "      <td>...</td>\n",
              "      <td>0.0</td>\n",
              "      <td>0.0</td>\n",
              "      <td>0.0</td>\n",
              "      <td>0.0</td>\n",
              "      <td>0.0</td>\n",
              "      <td>0.0</td>\n",
              "      <td>0.0</td>\n",
              "      <td>0.0</td>\n",
              "      <td>0.0</td>\n",
              "      <td>0.0</td>\n",
              "    </tr>\n",
              "  </tbody>\n",
              "</table>\n",
              "<p>5 rows × 22093 columns</p>\n",
              "</div>\n",
              "      <button class=\"colab-df-convert\" onclick=\"convertToInteractive('df-4875858a-ee82-4a2a-9556-3b0e4b2e2298')\"\n",
              "              title=\"Convert this dataframe to an interactive table.\"\n",
              "              style=\"display:none;\">\n",
              "        \n",
              "  <svg xmlns=\"http://www.w3.org/2000/svg\" height=\"24px\"viewBox=\"0 0 24 24\"\n",
              "       width=\"24px\">\n",
              "    <path d=\"M0 0h24v24H0V0z\" fill=\"none\"/>\n",
              "    <path d=\"M18.56 5.44l.94 2.06.94-2.06 2.06-.94-2.06-.94-.94-2.06-.94 2.06-2.06.94zm-11 1L8.5 8.5l.94-2.06 2.06-.94-2.06-.94L8.5 2.5l-.94 2.06-2.06.94zm10 10l.94 2.06.94-2.06 2.06-.94-2.06-.94-.94-2.06-.94 2.06-2.06.94z\"/><path d=\"M17.41 7.96l-1.37-1.37c-.4-.4-.92-.59-1.43-.59-.52 0-1.04.2-1.43.59L10.3 9.45l-7.72 7.72c-.78.78-.78 2.05 0 2.83L4 21.41c.39.39.9.59 1.41.59.51 0 1.02-.2 1.41-.59l7.78-7.78 2.81-2.81c.8-.78.8-2.07 0-2.86zM5.41 20L4 18.59l7.72-7.72 1.47 1.35L5.41 20z\"/>\n",
              "  </svg>\n",
              "      </button>\n",
              "      \n",
              "  <style>\n",
              "    .colab-df-container {\n",
              "      display:flex;\n",
              "      flex-wrap:wrap;\n",
              "      gap: 12px;\n",
              "    }\n",
              "\n",
              "    .colab-df-convert {\n",
              "      background-color: #E8F0FE;\n",
              "      border: none;\n",
              "      border-radius: 50%;\n",
              "      cursor: pointer;\n",
              "      display: none;\n",
              "      fill: #1967D2;\n",
              "      height: 32px;\n",
              "      padding: 0 0 0 0;\n",
              "      width: 32px;\n",
              "    }\n",
              "\n",
              "    .colab-df-convert:hover {\n",
              "      background-color: #E2EBFA;\n",
              "      box-shadow: 0px 1px 2px rgba(60, 64, 67, 0.3), 0px 1px 3px 1px rgba(60, 64, 67, 0.15);\n",
              "      fill: #174EA6;\n",
              "    }\n",
              "\n",
              "    [theme=dark] .colab-df-convert {\n",
              "      background-color: #3B4455;\n",
              "      fill: #D2E3FC;\n",
              "    }\n",
              "\n",
              "    [theme=dark] .colab-df-convert:hover {\n",
              "      background-color: #434B5C;\n",
              "      box-shadow: 0px 1px 3px 1px rgba(0, 0, 0, 0.15);\n",
              "      filter: drop-shadow(0px 1px 2px rgba(0, 0, 0, 0.3));\n",
              "      fill: #FFFFFF;\n",
              "    }\n",
              "  </style>\n",
              "\n",
              "      <script>\n",
              "        const buttonEl =\n",
              "          document.querySelector('#df-4875858a-ee82-4a2a-9556-3b0e4b2e2298 button.colab-df-convert');\n",
              "        buttonEl.style.display =\n",
              "          google.colab.kernel.accessAllowed ? 'block' : 'none';\n",
              "\n",
              "        async function convertToInteractive(key) {\n",
              "          const element = document.querySelector('#df-4875858a-ee82-4a2a-9556-3b0e4b2e2298');\n",
              "          const dataTable =\n",
              "            await google.colab.kernel.invokeFunction('convertToInteractive',\n",
              "                                                     [key], {});\n",
              "          if (!dataTable) return;\n",
              "\n",
              "          const docLinkHtml = 'Like what you see? Visit the ' +\n",
              "            '<a target=\"_blank\" href=https://colab.research.google.com/notebooks/data_table.ipynb>data table notebook</a>'\n",
              "            + ' to learn more about interactive tables.';\n",
              "          element.innerHTML = '';\n",
              "          dataTable['output_type'] = 'display_data';\n",
              "          await google.colab.output.renderOutput(dataTable, element);\n",
              "          const docLink = document.createElement('div');\n",
              "          docLink.innerHTML = docLinkHtml;\n",
              "          element.appendChild(docLink);\n",
              "        }\n",
              "      </script>\n",
              "    </div>\n",
              "  </div>\n",
              "  "
            ]
          },
          "metadata": {},
          "execution_count": 38
        }
      ],
      "source": [
        "X_train_tfidfV_df = pd.DataFrame(X_train_tfidfV.todense())\n",
        "X_train_tfidfV_df.columns = sorted(tfidfV.vocabulary_)\n",
        "X_train_tfidfV_df.head()"
      ]
    },
    {
      "cell_type": "code",
      "source": [],
      "metadata": {
        "id": "IgsxJXHnjBUi"
      },
      "execution_count": 38,
      "outputs": []
    }
  ],
  "metadata": {
    "colab": {
      "collapsed_sections": [],
      "toc_visible": true,
      "provenance": [],
      "include_colab_link": true
    },
    "kernelspec": {
      "display_name": "Python 3",
      "name": "python3"
    },
    "language_info": {
      "name": "python"
    }
  },
  "nbformat": 4,
  "nbformat_minor": 0
}